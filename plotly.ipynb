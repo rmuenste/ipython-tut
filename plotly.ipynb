{
 "metadata": {
  "name": "",
  "signature": "sha256:e8bdeb14ca4b1bc2b57c6ffe595ceccb03bfec9c0bbaa111c00a670afc1d6190"
 },
 "nbformat": 3,
 "nbformat_minor": 0,
 "worksheets": [
  {
   "cells": [
    {
     "cell_type": "heading",
     "level": 1,
     "metadata": {},
     "source": [
      "Plot.ly\n"
     ]
    },
    {
     "cell_type": "markdown",
     "metadata": {},
     "source": [
      "Plotly is an online analytics and data visualization tool. Plotly provides online graphing, analytics, and stats tools for individuals and collaboration, as well as scientific graphing libraries for Python, R, MATLAB, etc...\n",
      "\n",
      "\n",
      "\n",
      "<blockquote>\n",
      "<p><i>\"Instgram for scientists\"</i></p>\n",
      "</blockquote>\n"
     ]
    },
    {
     "cell_type": "code",
     "collapsed": false,
     "input": [
      "%matplotlib inline\n",
      "import matplotlib.pyplot as plt # side-stepping mpl backend\n",
      "import matplotlib.gridspec as gridspec # subplots\n",
      "import numpy as np\n",
      "import matplotlib as mp"
     ],
     "language": "python",
     "metadata": {},
     "outputs": [],
     "prompt_number": 3
    },
    {
     "cell_type": "code",
     "collapsed": false,
     "input": [
      "mp.__version__\n"
     ],
     "language": "python",
     "metadata": {},
     "outputs": [
      {
       "metadata": {},
       "output_type": "pyout",
       "prompt_number": 4,
       "text": [
        "'1.4.2'"
       ]
      }
     ],
     "prompt_number": 4
    },
    {
     "cell_type": "markdown",
     "metadata": {},
     "source": [
      "Matplotlib figures can be converted to Plotly figures, so there is no real need to learn Plotly commands. The conversion function require Matplotlib versions >= '1.4'"
     ]
    },
    {
     "cell_type": "code",
     "collapsed": false,
     "input": [
      "import plotly.plotly as py\n",
      "import plotly.tools as tls\n",
      "from plotly.graph_objs import *\n",
      "py.sign_in('Max.Shine', 'fgv40eo42p')"
     ],
     "language": "python",
     "metadata": {},
     "outputs": [],
     "prompt_number": 5
    },
    {
     "cell_type": "code",
     "collapsed": false,
     "input": [
      "fig1 = plt.figure()\n",
      "\n",
      "import matplotlib.pyplot as plt\n",
      "import numpy as np\n",
      "import matplotlib.mlab as mlab\n",
      "\n",
      "mean = [10,12,16,22,25]\n",
      "variance = [3,6,8,10,12]\n",
      "\n",
      "x = np.linspace(0,40,1000)\n",
      "\n",
      "for i in range(4):\n",
      "    sigma = np.sqrt(variance[i])\n",
      "    y = mlab.normpdf(x,mean[i],sigma)\n",
      "    plt.plot(x,y, label=r'$v_{}$'.format(i+1))\n",
      "\n",
      "plt.xlabel(\"X\")\n",
      "plt.ylabel(\"P(X)\")    "
     ],
     "language": "python",
     "metadata": {},
     "outputs": [
      {
       "metadata": {},
       "output_type": "pyout",
       "prompt_number": 6,
       "text": [
        "<matplotlib.text.Text at 0x7f5240883b10>"
       ]
      },
      {
       "metadata": {},
       "output_type": "display_data",
       "png": "[encoded data removed]",
       "text": [
        "<matplotlib.figure.Figure at 0x7f52416a8dd0>"
       ]
      }
     ],
     "prompt_number": 6
    },
    {
     "cell_type": "code",
     "collapsed": false,
     "input": [
      "py.iplot_mpl(fig1, strip_style = True)"
     ],
     "language": "python",
     "metadata": {},
     "outputs": [
      {
       "html": [
        "<iframe id=\"igraph\" scrolling=\"no\" style=\"border:none;\"seamless=\"seamless\" src=\"https://plot.ly/~Max.Shine/28.embed\" height=\"525\" width=\"100%\"></iframe>"
       ],
       "metadata": {},
       "output_type": "pyout",
       "prompt_number": 7,
       "text": [
        "<plotly.tools.PlotlyDisplay at 0x7f52407acfd0>"
       ]
      }
     ],
     "prompt_number": 7
    },
    {
     "cell_type": "code",
     "collapsed": false,
     "input": [
      "# Package all mpl plotting commands inside one function\n",
      "def plot_mpl_fig():\n",
      "    \n",
      "    # Make two time arrays\n",
      "    t1 = np.arange(0.0, 2.0, 0.1)\n",
      "    t2 = np.arange(0.0, 2.0, 0.01)\n",
      "\n",
      "    # N.B. .plot() returns a list of lines.  \n",
      "    # The \"l1, = plot\" usage extracts the first element of the list \n",
      "    # into l1 using tuple unpacking.  \n",
      "    # So, l1 is a Line2D instance, not a sequence of lines\n",
      "    l1, = plt.plot(t2, np.exp(-t2), label='decaying exp.')\n",
      "    l2, l3 = plt.plot(t2, np.sin(2 * np.pi * t2), '--go', \n",
      "                      t1, np.log(1 + t1), '.')\n",
      "    l4, = plt.plot(t2, np.exp(-t2) * np.sin(2 * np.pi * t2), 'rs-.')\n",
      "\n",
      "    # Add axis labels and title\n",
      "    plt.xlabel('time')\n",
      "    plt.ylabel('volts')\n",
      "    plt.title('Damped oscillation')\n",
      "    \n",
      "    return (l1,l2,l3,l4)  # return line objects (for legend, later)\n",
      "\n",
      "# Plot it!\n",
      "plot_mpl_fig()\n",
      "\n",
      "# N.B. get matplotlib figure object and assign a variable to it\n",
      "mpl_fig1 = plt.gcf()"
     ],
     "language": "python",
     "metadata": {},
     "outputs": []
    },
    {
     "cell_type": "code",
     "collapsed": false,
     "input": [
      "py_fig1 = tls.mpl_to_plotly(mpl_fig1, verbose=True)"
     ],
     "language": "python",
     "metadata": {},
     "outputs": []
    },
    {
     "cell_type": "code",
     "collapsed": false,
     "input": [
      "py.iplot_mpl(mpl_fig1, filename='s6_damped_oscillation')"
     ],
     "language": "python",
     "metadata": {},
     "outputs": [
      {
       "html": [
        "<iframe id=\"igraph\" scrolling=\"no\" style=\"border:none;\"seamless=\"seamless\" src=\"https://plot.ly/~IPython.Demo/4688.embed\" height=\"525\" width=\"100%\"></iframe>"
       ],
       "metadata": {},
       "output_type": "pyout",
       "prompt_number": 10,
       "text": [
        "<plotly.tools.PlotlyDisplay at 0x5168410>"
       ]
      }
     ],
     "prompt_number": 10
    },
    {
     "cell_type": "code",
     "collapsed": false,
     "input": [
      "py.iplot_mpl(mpl_fig1, strip_style=True, \n",
      "             filename='s6_damped_oscillation-default-style')"
     ],
     "language": "python",
     "metadata": {},
     "outputs": [
      {
       "html": [
        "<iframe id=\"igraph\" scrolling=\"no\" style=\"border:none;\"seamless=\"seamless\" src=\"https://plot.ly/~IPython.Demo/4689.embed\" height=\"525\" width=\"100%\"></iframe>"
       ],
       "metadata": {},
       "output_type": "pyout",
       "prompt_number": 11,
       "text": [
        "<plotly.tools.PlotlyDisplay at 0x454c690>"
       ]
      }
     ],
     "prompt_number": 11
    },
    {
     "cell_type": "code",
     "collapsed": false,
     "input": [],
     "language": "python",
     "metadata": {},
     "outputs": []
    }
   ],
   "metadata": {}
  }
 ]
}