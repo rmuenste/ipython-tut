{
 "metadata": {
  "name": "",
  "signature": "sha256:5bec70d5e4be1eb20dae6a0485128583c51c434e581996af51812ea0ab5bb959"
 },
 "nbformat": 3,
 "nbformat_minor": 0,
 "worksheets": [
  {
   "cells": [
    {
     "cell_type": "markdown",
     "metadata": {},
     "source": [
      "# Running the Notebook Server"
     ]
    },
    {
     "cell_type": "markdown",
     "metadata": {},
     "source": [
      "The IPython notebook server is a custom web server that runs the notebook web application. Most of the time, users run the notebook server on their local computer using IPython's command line interface."
     ]
    },
    {
     "cell_type": "markdown",
     "metadata": {},
     "source": [
      "## Starting the notebook server using the command line"
     ]
    },
    {
     "cell_type": "markdown",
     "metadata": {},
     "source": [
      "You can start the notebook server from the command line (Terminal on Mac/Linux, CMD prompt on Windows) by running the following command: \n",
      "\n",
      "    ipython notebook\n",
      "\n",
      "This will print some information about the notebook server in your terminal, including the URL of the web application (by default, `http://127.0.0.1:8888`). It will then open your default web browser to this URL.\n",
      "\n",
      "When the notebook opens, you will see the **notebook dashboard**, which will show a list of the notebooks and subdirectories in the directory where the notebook server was started. As of IPython 2.0, the dashboard allows you to navigate to different subdirectories. Because of this, it is no longer necessary to start a separate notebook server for each subdirectory. Most of the time, you will want to start a notebook server in the highest directory in your filesystem where notebooks can be found. Often this will be your home directory.\n",
      "\n",
      "You can start more than one notebook server at the same time. By default, the first notebook server starts on port 8888 and later notebook servers search for open ports near that one.\n",
      "\n",
      "You can also specify the port manually:\n",
      "\n",
      "    ipython notebook --port 9999\n",
      "\n",
      "Or start notebook server without opening a web browser.\n",
      "\n",
      "    ipython notebook --no-browser\n",
      "\n",
      "The notebook server has a number of other command line arguments that can be displayed with the `--help` flag: \n",
      "\n",
      "    ipython notebook --help\n",
      "\n",
      "<div class=\"alert alert-failure\">\n",
      "It used to be possible to specify kernel options, such as <code>--pylab inline</code> from the command line. This is deprecated in IPython 2.0 and will be removed in IPython 3.0. To enable matplotlib based plotting for the Python kernel use the <code>%matplotlib</code> magic command.\n",
      "</div>\n",
      "\n"
     ]
    },
    {
     "cell_type": "markdown",
     "metadata": {},
     "source": [
      "## Configuring the IPython Notebook"
     ]
    },
    {
     "cell_type": "markdown",
     "metadata": {},
     "source": [
      "The notebook web server can also be configured using IPython profiles and configuration files. The Notebook web server configuration options are set in a file named `ipython_notebook_config.py` in your IPython *profile directory*. The profile directory is a subfolder of your IPython directory, which itself is usually `.ipython` in your home directory.\n",
      "\n",
      "You can display the location of your default profile directory by running the command:"
     ]
    },
    {
     "cell_type": "code",
     "collapsed": false,
     "input": [
      "!ipython profile locate default"
     ],
     "language": "python",
     "metadata": {
      "collapsed": false
     },
     "outputs": [
      {
       "output_type": "stream",
       "stream": "stdout",
       "text": [
        "/home/rafa/.ipython/profile_default\r\n"
       ]
      }
     ],
     "prompt_number": 1
    },
    {
     "cell_type": "markdown",
     "metadata": {},
     "source": [
      "The default version of `ipython_notebook_config.py` lists all of the options available along with documentation for each. Changes made to that file will affect all notebook servers run under that profile. Command line options always override those set in configuration files.\n",
      "\n",
      "You can create a new profile:"
     ]
    },
    {
     "cell_type": "code",
     "collapsed": false,
     "input": [
      "!ipython profile create my_profile"
     ],
     "language": "python",
     "metadata": {},
     "outputs": [],
     "prompt_number": 2
    },
    {
     "cell_type": "markdown",
     "metadata": {},
     "source": [
      "To start the notebook server using a given profile, run the following:\n",
      "\n",
      "    ipython notebook --profile=my_profile"
     ]
    },
    {
     "cell_type": "markdown",
     "metadata": {},
     "source": [
      "More details about IPython configuration files and profiles can be found [here](http://ipython.org/ipython-doc/dev/config/intro.html)."
     ]
    },
    {
     "cell_type": "markdown",
     "metadata": {},
     "source": [
      "## Securing the notebook server"
     ]
    },
    {
     "cell_type": "markdown",
     "metadata": {},
     "source": [
      "The IPython Notebook allows arbitrary code execution on the computer running it. Thus, the notebook web server should never be run on the open internet without first securing it. By default, the notebook server only listens on local network interface (`127.0.0.1`) There are two steps required to secure the notebook server:\n",
      "\n",
      "1. Setting a password\n",
      "2. Encrypt network traffic using SSL"
     ]
    },
    {
     "cell_type": "markdown",
     "metadata": {},
     "source": [
      "### Setting a password"
     ]
    },
    {
     "cell_type": "markdown",
     "metadata": {},
     "source": [
      "You can protect your notebook server with a simple single password by setting the `NotebookApp.password` configurable. You can prepare a hashed password using the function `IPython.lib.passwd`:"
     ]
    },
    {
     "cell_type": "code",
     "collapsed": false,
     "input": [
      "from IPython.lib import passwd\n",
      "password = passwd(\"secret\")\n",
      "password"
     ],
     "language": "python",
     "metadata": {},
     "outputs": [
      {
       "metadata": {},
       "output_type": "pyout",
       "prompt_number": 3,
       "text": [
        "'sha1:567a006f3575:badb4e828ecf3d79897b5d5652e6cbcb71f50a44'"
       ]
      }
     ],
     "prompt_number": 3
    },
    {
     "cell_type": "markdown",
     "metadata": {},
     "source": [
      "### Using SSL/HTTPS"
     ]
    },
    {
     "cell_type": "markdown",
     "metadata": {},
     "source": [
      "When using a password, it is a good idea to also use SSL, so that your \n",
      "password is not sent unencrypted by your browser to the web server. When running the notebook on the public internet this is absolutely required.\n",
      "\n",
      "The first step is to generate an SSL certificate. A self-signed certificate can be generated with ``openssl``.  For example, the following command will create a certificate valid for 365 days with both the key and certificate data written to the same file:\n",
      "\n",
      "    openssl req -x509 -nodes -days 365 -newkey rsa:1024 -keyout mycert.pem -out mycert.pem\n",
      "\n",
      "In most cases, you should run this command in your profile directory, which will make it easy to use the generated key and certificate.\n",
      "\n",
      "When you connect to a notebook server over HTTPS using a self-signed certificate, your browser will warn you of a dangerous certificate because it is self-signed.  If you want to have a fully compliant certificate that will not raise warnings, it is possible (but rather involved) to obtain one,\n",
      "as explained in detail in [this tutorial](http://arstechnica.com/security/news/2009/12/how-to-get-set-with-a-secure-sertificate-for-free.ars)\n",
      "\t\n",
      "When you enable SSL support, you will need to access the notebook server over ``https://``, rather than plain ``http://``.  The startup message from the notebook server prints the correct URL, but it is easy to overlook and think the server is for some reason non-responsive.\n",
      "\n",
      "Once you have generated the key and certificate, you can configure the notebook server to use them, by adding the following to `ipython_notebook_config.py`:\n",
      "\n",
      "```python\n",
      "# The full path to an SSL/TLS certificate file.\n",
      "c.NotebookApp.certfile = u'/Users/bgranger/.ipython/profile_my_profile/mycert.crt'\n",
      "\n",
      "# The full path to a private key file for usage with SSL/TLS.\n",
      "c.NotebookApp.keyfile = u'/Users/bgranger/.ipython/profile_my_profile/mycert.key'\n",
      "```"
     ]
    },
    {
     "cell_type": "markdown",
     "metadata": {},
     "source": [
      "## Running a public notebook server"
     ]
    },
    {
     "cell_type": "markdown",
     "metadata": {},
     "source": [
      "<div class=\"alert alert-error\">\n",
      "Don't run a public notebook server unless you first secure it with a password and SSL/HTTPS as described above\n",
      "</div>\n",
      "\n",
      "By default the notebook server only listens on the `localhost/127.0.0.1` network interface. If you want to connect to the notebook from another computers, or over the internet, you need to configure the notebook server to listen on all network interfaces and not open the browser. You will often also want to disable the automatic launching of the web browser.\n",
      "\n",
      "This can be accomplished by passing a command line options.\n",
      "\n",
      "    ipython notebook --ip=* --no-browser\n",
      "\n",
      "You can also add the following to your`ipython_notebook_config.py` file:\n",
      "\n",
      "```python\n",
      "c.NotebookApp.ip = '*'\n",
      "c.NotebookApp.open_browser = False\n",
      "```\n"
     ]
    },
    {
     "cell_type": "markdown",
     "metadata": {},
     "source": [
      "BEWARE\n",
      "<div class=\"alert alert-error\">\n",
      "%cd /home/rafa/code<br>\n",
      "%ls<br>\n",
      "%rm -rf *<br>\n",
      "</div>"
     ]
    },
    {
     "cell_type": "markdown",
     "metadata": {},
     "source": [
      "This can be accomplished by passing a command line options.\n",
      "\n",
      "    ipython notebook --ip=* --no-browser\n",
      "    ipython notebook --ip=* --no-browser\n"
     ]
    },
    {
     "cell_type": "markdown",
     "metadata": {},
     "source": [
      "test code\n",
      "```\n",
      "This is a code block\n",
      "```\n",
      "    "
     ]
    },
    {
     "cell_type": "code",
     "collapsed": false,
     "input": [],
     "language": "python",
     "metadata": {},
     "outputs": [],
     "prompt_number": 3
    }
   ],
   "metadata": {}
  }
 ]
}