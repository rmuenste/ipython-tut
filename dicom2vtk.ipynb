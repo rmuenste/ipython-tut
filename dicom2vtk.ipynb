{
 "metadata": {
  "name": "",
  "signature": "sha256:51cf400850645f6005301f10c8cd3fa7215f06dc784f73059df3b85de7cca5d9"
 },
 "nbformat": 3,
 "nbformat_minor": 0,
 "worksheets": [
  {
   "cells": [
    {
     "cell_type": "code",
     "collapsed": false,
     "input": [
      "import vtk\n",
      "from vtk.util import numpy_support\n",
      "import os\n",
      "import numpy"
     ],
     "language": "python",
     "metadata": {},
     "outputs": [],
     "prompt_number": 2
    },
    {
     "cell_type": "code",
     "collapsed": false,
     "input": [
      "def vtkImageToNumPy(image, pixelDims):\n",
      "    pointData = image.GetPointData()\n",
      "    arrayData = pointData.GetArray(0)\n",
      "    ArrayDicom = numpy_support.vtk_to_numpy(arrayData)\n",
      "    ArrayDicom = ArrayDicom.reshape(pixelDims, order='F')\n",
      "    \n",
      "    return ArrayDicom"
     ],
     "language": "python",
     "metadata": {},
     "outputs": [],
     "prompt_number": 3
    },
    {
     "cell_type": "code",
     "collapsed": false,
     "input": [
      "%pwd\n",
      "%ls"
     ],
     "language": "python",
     "metadata": {},
     "outputs": [
      {
       "output_type": "stream",
       "stream": "stdout",
       "text": [
        "\u001b[0m\u001b[01;34m5002\u001b[0m/          CMakeCache.txt  cmake_install.cmake  \u001b[01;34mdigest_article\u001b[0m/  Makefile       readDICOM.ipynb\r\n",
        "challenge.stl  \u001b[01;34mCMakeFiles\u001b[0m/     dicom2vti.ipynb      image.vti        \u001b[01;34mPlasticSkull\u001b[0m/  \u001b[01;32mReadDICOMSeries\u001b[0m*\r\n"
       ]
      }
     ],
     "prompt_number": 5
    },
    {
     "cell_type": "code",
     "collapsed": false,
     "input": [
      "dicomFolder = \"./5002/\"\n",
      "reader = vtk.vtkDICOMImageReader()\n",
      "reader.SetDirectoryName(dicomFolder)\n",
      "reader.Update()\n",
      "\n",
      "# Load dimensions using `GetDataExtent`\n",
      "my_extent = reader.GetDataExtent()\n",
      "ConstPixelDims = [my_extent[1]-my_extent[0]+1, my_extent[3]-my_extent[2]+1, my_extent[5]-my_extent[4]+1]\n",
      "\n",
      "# Load spacing values\n",
      "ConstPixelSpacing = reader.GetPixelSpacing()"
     ],
     "language": "python",
     "metadata": {},
     "outputs": [],
     "prompt_number": 9
    },
    {
     "cell_type": "code",
     "collapsed": false,
     "input": [
      "dicom_array = vtkImageToNumPy(reader.GetOutput(), ConstPixelDims)\n"
     ],
     "language": "python",
     "metadata": {},
     "outputs": [],
     "prompt_number": 10
    },
    {
     "cell_type": "code",
     "collapsed": false,
     "input": [
      "from evtk.hl import imageToVTK\n",
      "\n",
      "imageToVTK(\"./aneurysm\",cellData={\"ArrayDicom\" : dicom_array})"
     ],
     "language": "python",
     "metadata": {},
     "outputs": [
      {
       "metadata": {},
       "output_type": "pyout",
       "prompt_number": 11,
       "text": [
        "'/home/rafa/code/vtk/read-series/aneurysm.vti'"
       ]
      }
     ],
     "prompt_number": 11
    },
    {
     "cell_type": "code",
     "collapsed": false,
     "input": [],
     "language": "python",
     "metadata": {},
     "outputs": []
    }
   ],
   "metadata": {}
  }
 ]
}