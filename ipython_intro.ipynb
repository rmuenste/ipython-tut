{
 "metadata": {
  "name": "",
  "signature": "sha256:3393a0952d9ffdff8fd84998a5fdd9d04b3f6c305921f63cfa77a9a8358707b3"
 },
 "nbformat": 3,
 "nbformat_minor": 0,
 "worksheets": [
  {
   "cells": [
    {
     "cell_type": "code",
     "collapsed": false,
     "input": [
      "import os\n",
      "import numpy as np\n",
      "import matplotlib.pyplot as plt\n",
      "from pprint import pprint\n"
     ],
     "language": "python",
     "metadata": {},
     "outputs": [],
     "prompt_number": 2
    },
    {
     "cell_type": "code",
     "collapsed": false,
     "input": [
      "%%javascript\n",
      "IPython.load_extensions('usability/codefolding/codefolding');"
     ],
     "language": "python",
     "metadata": {},
     "outputs": [
      {
       "javascript": [
        "IPython.load_extensions('usability/codefolding/codefolding');"
       ],
       "metadata": {},
       "output_type": "display_data",
       "text": [
        "<IPython.core.display.Javascript at 0x3aa4750>"
       ]
      }
     ],
     "prompt_number": 3
    },
    {
     "cell_type": "code",
     "collapsed": false,
     "input": [
      "print(dir(plt))\n"
     ],
     "language": "python",
     "metadata": {},
     "outputs": [
      {
       "output_type": "stream",
       "stream": "stdout",
       "text": [
        "['Annotation', 'Arrow', 'Artist', 'AutoLocator', 'Axes', 'Button', 'Circle', 'Figure', 'FigureCanvasBase', 'FixedFormatter', 'FixedLocator', 'FormatStrFormatter', 'Formatter', 'FuncFormatter', 'GridSpec', 'IndexLocator', 'Line2D', 'LinearLocator', 'Locator', 'LogFormatter', 'LogFormatterExponent', 'LogFormatterMathtext', 'LogLocator', 'MaxNLocator', 'MultipleLocator', 'Normalize', 'NullFormatter', 'NullLocator', 'PolarAxes', 'Polygon', 'Rectangle', 'ScalarFormatter', 'Slider', 'Subplot', 'SubplotTool', 'Text', 'TickHelper', 'Widget', '__builtins__', '__doc__', '__file__', '__name__', '__package__', '_autogen_docstring', '_backend_mod', '_backend_selection', '_imread', '_imsave', '_interactive_bk', '_pylab_helpers', '_setp', '_setup_pyplot_info_docstrings', '_show', '_string_to_bool', 'absolute_import', 'acorr', 'angle_spectrum', 'annotate', 'arrow', 'autoscale', 'autumn', 'axes', 'axhline', 'axhspan', 'axis', 'axvline', 'axvspan', 'bar', 'barbs', 'barh', 'bone', 'box', 'boxplot', 'broken_barh', 'cla', 'clabel', 'clf', 'clim', 'close', 'cm', 'cohere', 'colorbar', 'colormaps', 'colors', 'connect', 'contour', 'contourf', 'cool', 'copper', 'csd', 'dedent', 'delaxes', 'disconnect', 'division', 'docstring', 'draw', 'draw_if_interactive', 'errorbar', 'eventplot', 'figaspect', 'figimage', 'figlegend', 'fignum_exists', 'figtext', 'figure', 'fill', 'fill_between', 'fill_betweenx', 'findobj', 'flag', 'gca', 'gcf', 'gci', 'get', 'get_backend', 'get_cmap', 'get_current_fig_manager', 'get_figlabels', 'get_fignums', 'get_plot_commands', 'get_scale_docs', 'get_scale_names', 'getp', 'ginput', 'gray', 'grid', 'hexbin', 'hist', 'hist2d', 'hlines', 'hold', 'hot', 'hsv', 'imread', 'imsave', 'imshow', 'interactive', 'ioff', 'ion', 'is_numlike', 'is_string_like', 'ishold', 'isinteractive', 'jet', 'legend', 'locator_params', 'loglog', 'magnitude_spectrum', 'margins', 'matplotlib', 'matshow', 'minorticks_off', 'minorticks_on', 'mlab', 'new_figure_manager', 'normalize', 'np', 'over', 'pause', 'pcolor', 'pcolormesh', 'phase_spectrum', 'pie', 'pink', 'plot', 'plot_date', 'plotfile', 'plotting', 'polar', 'print_function', 'prism', 'psd', 'pylab_setup', 'quiver', 'quiverkey', 'rc', 'rcParams', 'rcParamsDefault', 'rc_context', 'rcdefaults', 'register_cmap', 'rgrids', 'savefig', 'sca', 'scatter', 'sci', 'semilogx', 'semilogy', 'set_cmap', 'setp', 'show', 'silent_list', 'six', 'specgram', 'spectral', 'spring', 'spy', 'stackplot', 'stem', 'step', 'streamplot', 'style', 'subplot', 'subplot2grid', 'subplot_tool', 'subplots', 'subplots_adjust', 'summer', 'suptitle', 'switch_backend', 'sys', 'table', 'text', 'thetagrids', 'tick_params', 'ticklabel_format', 'tight_layout', 'title', 'tricontour', 'tricontourf', 'tripcolor', 'triplot', 'twinx', 'twiny', 'unicode_literals', 'violinplot', 'vlines', 'waitforbuttonpress', 'warnings', 'winter', 'xcorr', 'xkcd', 'xlabel', 'xlim', 'xscale', 'xticks', 'ylabel', 'ylim', 'yscale', 'yticks']\n"
       ]
      }
     ],
     "prompt_number": 4
    },
    {
     "cell_type": "code",
     "collapsed": false,
     "input": [
      "*int*?\n"
     ],
     "language": "python",
     "metadata": {},
     "outputs": [],
     "prompt_number": 5
    },
    {
     "cell_type": "code",
     "collapsed": false,
     "input": [
      "%quickref"
     ],
     "language": "python",
     "metadata": {},
     "outputs": [],
     "prompt_number": 6
    },
    {
     "cell_type": "code",
     "collapsed": false,
     "input": [
      "%colors Linux"
     ],
     "language": "python",
     "metadata": {},
     "outputs": [],
     "prompt_number": 7
    },
    {
     "cell_type": "code",
     "collapsed": false,
     "input": [
      "%cd /home/rafa/work/benchmarkData/wan_sedimentation\n"
     ],
     "language": "python",
     "metadata": {},
     "outputs": [
      {
       "output_type": "stream",
       "stream": "stdout",
       "text": [
        "/home/rafa/work/benchmarkData/wan_sedimentation\n"
       ]
      }
     ],
     "prompt_number": 8
    },
    {
     "cell_type": "code",
     "collapsed": false,
     "input": [
      "#!sed 's/,/ /g' sedimentation_velocity.dat >> vel.dat\n",
      "np.loadtxt('vel.dat')"
     ],
     "language": "python",
     "metadata": {},
     "outputs": [
      {
       "metadata": {},
       "output_type": "pyout",
       "prompt_number": 9,
       "text": [
        "array([[  2.69461078e-03,  -7.88321168e-01],\n",
        "       [  3.89221557e-03,  -9.92700730e-01],\n",
        "       [  1.04790419e-02,  -2.16788321e+00],\n",
        "       [  1.16766467e-02,  -2.36496350e+00],\n",
        "       [  1.82634731e-02,  -3.44525547e+00],\n",
        "       [  1.91616766e-02,  -3.57664234e+00],\n",
        "       [  2.60479042e-02,  -4.64233577e+00],\n",
        "       [  3.38323353e-02,  -5.70072993e+00],\n",
        "       [  3.62275449e-02,  -6.07299270e+00],\n",
        "       [  4.04191617e-02,  -6.56934307e+00],\n",
        "       [  4.19161677e-02,  -6.75425791e+00],\n",
        "       [  4.91017964e-02,  -7.56204380e+00],\n",
        "       [  5.65868263e-02,  -8.30656934e+00],\n",
        "       [  6.40718563e-02,  -8.91240876e+00],\n",
        "       [  7.12574850e-02,  -9.40145985e+00],\n",
        "       [  7.36526946e-02,  -9.53284672e+00],\n",
        "       [  7.93413174e-02,  -9.82238443e+00],\n",
        "       [  8.68263473e-02,  -1.01459854e+01],\n",
        "       [  9.04191617e-02,  -1.02773723e+01],\n",
        "       [  9.43712575e-02,  -1.04029197e+01],\n",
        "       [  9.77544910e-02,  -1.05109489e+01],\n",
        "       [  1.01197605e-01,  -1.06034063e+01],\n",
        "       [  1.08832335e-01,  -1.07956204e+01],\n",
        "       [  1.12275449e-01,  -1.08759124e+01],\n",
        "       [  1.15718563e-01,  -1.09452555e+01],\n",
        "       [  1.19161677e-01,  -1.10121655e+01],\n",
        "       [  1.25548902e-01,  -1.11386861e+01],\n",
        "       [  1.29341317e-01,  -1.11897810e+01],\n",
        "       [  1.32634731e-01,  -1.12384428e+01],\n",
        "       [  1.36047904e-01,  -1.12905109e+01],\n",
        "       [  1.39820359e-01,  -1.13284672e+01],\n",
        "       [  1.44011976e-01,  -1.13868613e+01],\n",
        "       [  1.49101796e-01,  -1.14452555e+01],\n",
        "       [  1.53592814e-01,  -1.15036496e+01],\n",
        "       [  1.58203593e-01,  -1.15532847e+01],\n",
        "       [  1.61976048e-01,  -1.15888078e+01],\n",
        "       [  1.65568862e-01,  -1.16253041e+01],\n",
        "       [  1.69161677e-01,  -1.16593674e+01],\n",
        "       [  1.71856287e-01,  -1.16934307e+01],\n",
        "       [  1.76047904e-01,  -1.17323601e+01],\n",
        "       [  1.78742515e-01,  -1.17518248e+01],\n",
        "       [  1.84730539e-01,  -1.18102190e+01],\n",
        "       [  1.91916168e-01,  -1.18686131e+01],\n",
        "       [  1.95808383e-01,  -1.18978102e+01],\n",
        "       [  2.01497006e-01,  -1.19270073e+01],\n",
        "       [  2.05089820e-01,  -1.19562044e+01],\n",
        "       [  2.08682635e-01,  -1.19781022e+01],\n",
        "       [  2.12275449e-01,  -1.19902676e+01],\n",
        "       [  2.15868263e-01,  -1.20145985e+01],\n",
        "       [  2.19461078e-01,  -1.20340633e+01],\n",
        "       [  2.23652695e-01,  -1.20559611e+01],\n",
        "       [  2.27245509e-01,  -1.20729927e+01],\n",
        "       [  2.34131737e-01,  -1.21021898e+01],\n",
        "       [  2.40419162e-01,  -1.21313869e+01],\n",
        "       [  2.49101796e-01,  -1.21605839e+01],\n",
        "       [  2.56287425e-01,  -1.21897810e+01],\n",
        "       [  2.63473054e-01,  -1.22189781e+01],\n",
        "       [  2.70538922e-01,  -1.22481752e+01],\n",
        "       [  2.76946108e-01,  -1.22773723e+01],\n",
        "       [  2.82994012e-01,  -1.23065693e+01],\n",
        "       [  2.86227545e-01,  -1.23065693e+01],\n",
        "       [  2.90718563e-01,  -1.23309002e+01],\n",
        "       [  2.94311377e-01,  -1.23381995e+01],\n",
        "       [  2.97904192e-01,  -1.23527981e+01],\n",
        "       [  3.01497006e-01,  -1.23649635e+01],\n",
        "       [  3.05089820e-01,  -1.23649635e+01],\n",
        "       [  3.08682635e-01,  -1.23649635e+01],\n",
        "       [  3.12275449e-01,  -1.23649635e+01],\n",
        "       [  3.15868263e-01,  -1.23649635e+01],\n",
        "       [  3.19461078e-01,  -1.23527981e+01],\n",
        "       [  3.23053892e-01,  -1.23357664e+01],\n",
        "       [  3.26646707e-01,  -1.23333333e+01],\n",
        "       [  3.30239521e-01,  -1.23260341e+01],\n",
        "       [  3.32934132e-01,  -1.23065693e+01],\n",
        "       [  3.38323353e-01,  -1.22481752e+01],\n",
        "       [  3.44311377e-01,  -1.21313869e+01],\n",
        "       [  3.48023952e-01,  -1.20321168e+01],\n",
        "       [  3.51796407e-01,  -1.18832117e+01],\n",
        "       [  3.55089820e-01,  -1.16788321e+01],\n",
        "       [  3.57485030e-01,  -1.14793187e+01],\n",
        "       [  3.59281437e-01,  -1.12749392e+01],\n",
        "       [  3.60778443e-01,  -1.10583942e+01],\n",
        "       [  3.63473054e-01,  -1.05255474e+01],\n",
        "       [  3.65269461e-01,  -9.86861314e+00],\n",
        "       [  3.65868263e-01,   3.50364964e-01],\n",
        "       [  3.65868263e-01,   1.75182482e-01],\n",
        "       [  3.66467066e-01,  -4.86618005e-02],\n",
        "       [  3.65868263e-01,  -1.75182482e-01],\n",
        "       [  3.65868263e-01,  -3.50364964e-01],\n",
        "       [  3.65868263e-01,  -5.25547445e-01],\n",
        "       [  3.65868263e-01,  -7.00729927e-01],\n",
        "       [  3.65868263e-01,  -8.75912409e-01],\n",
        "       [  3.65868263e-01,  -1.05109489e+00],\n",
        "       [  3.65868263e-01,  -1.22627737e+00],\n",
        "       [  3.65868263e-01,  -1.40145985e+00],\n",
        "       [  3.65868263e-01,  -1.57664234e+00],\n",
        "       [  3.65868263e-01,  -1.75182482e+00],\n",
        "       [  3.65868263e-01,  -1.92700730e+00],\n",
        "       [  3.65868263e-01,  -2.10218978e+00],\n",
        "       [  3.65868263e-01,  -2.27737226e+00],\n",
        "       [  3.65868263e-01,  -2.45255474e+00],\n",
        "       [  3.65868263e-01,  -2.62773723e+00],\n",
        "       [  3.65868263e-01,  -2.80291971e+00],\n",
        "       [  3.65868263e-01,  -2.97810219e+00],\n",
        "       [  3.65868263e-01,  -3.15328467e+00],\n",
        "       [  3.65868263e-01,  -3.32846715e+00],\n",
        "       [  3.65868263e-01,  -3.50364964e+00],\n",
        "       [  3.65868263e-01,  -3.67883212e+00],\n",
        "       [  3.65868263e-01,  -3.85401460e+00],\n",
        "       [  3.65868263e-01,  -4.02919708e+00],\n",
        "       [  3.65868263e-01,  -4.20437956e+00],\n",
        "       [  3.65868263e-01,  -4.37956204e+00],\n",
        "       [  3.65868263e-01,  -4.55474453e+00],\n",
        "       [  3.65868263e-01,  -4.72992701e+00],\n",
        "       [  3.65868263e-01,  -4.90510949e+00],\n",
        "       [  3.65868263e-01,  -5.08029197e+00],\n",
        "       [  3.65868263e-01,  -5.25547445e+00],\n",
        "       [  3.65868263e-01,  -5.43065693e+00],\n",
        "       [  3.65868263e-01,  -5.60583942e+00],\n",
        "       [  3.65868263e-01,  -5.78102190e+00],\n",
        "       [  3.65868263e-01,  -5.95620438e+00],\n",
        "       [  3.65868263e-01,  -6.13138686e+00],\n",
        "       [  3.65868263e-01,  -6.30656934e+00],\n",
        "       [  3.65868263e-01,  -6.48175182e+00],\n",
        "       [  3.65868263e-01,  -6.65693431e+00],\n",
        "       [  3.65868263e-01,  -6.83211679e+00],\n",
        "       [  3.65868263e-01,  -7.00729927e+00],\n",
        "       [  3.65868263e-01,  -7.18248175e+00],\n",
        "       [  3.65868263e-01,  -7.35766423e+00],\n",
        "       [  3.65868263e-01,  -7.53284672e+00],\n",
        "       [  3.65868263e-01,  -7.70802920e+00],\n",
        "       [  3.65868263e-01,  -7.88321168e+00],\n",
        "       [  3.65868263e-01,  -8.05839416e+00],\n",
        "       [  3.65868263e-01,  -8.23357664e+00],\n",
        "       [  3.65868263e-01,  -8.40875912e+00],\n",
        "       [  3.65868263e-01,  -8.58394161e+00],\n",
        "       [  3.65868263e-01,  -8.75912409e+00],\n",
        "       [  3.65868263e-01,  -8.93430657e+00],\n",
        "       [  3.65868263e-01,  -9.10948905e+00],\n",
        "       [  3.65868263e-01,  -9.28467153e+00],\n",
        "       [  3.65868263e-01,  -9.45985401e+00],\n",
        "       [  3.65868263e-01,  -9.63503650e+00],\n",
        "       [  3.83832335e-01,  -3.28467153e-02],\n",
        "       [  3.85928144e-01,  -4.37956204e-02],\n",
        "       [  4.08383234e-01,   0.00000000e+00],\n",
        "       [  4.19960080e-01,   1.45985401e-02],\n",
        "       [  4.26347305e-01,   1.45985401e-02],\n",
        "       [  4.42315369e-01,  -4.86618005e-03],\n",
        "       [  4.44311377e-01,   1.45985401e-02],\n",
        "       [  4.54890220e-01,  -4.37956204e-02],\n",
        "       [  4.78143713e-01,  -1.45985401e-02],\n",
        "       [  4.81137725e-01,  -1.45985401e-02]])"
       ]
      }
     ],
     "prompt_number": 9
    },
    {
     "cell_type": "code",
     "collapsed": true,
     "input": [
      "my_data = np.array([[  2.69461078e-03,  -7.88321168e-01],\n",
      "       [  3.89221557e-03,  -9.92700730e-01],\n",
      "       [  1.04790419e-02,  -2.16788321e+00],\n",
      "       [  1.16766467e-02,  -2.36496350e+00],\n",
      "       [  1.82634731e-02,  -3.44525547e+00],\n",
      "       [  1.91616766e-02,  -3.57664234e+00],\n",
      "       [  2.60479042e-02,  -4.64233577e+00],\n",
      "       [  3.38323353e-02,  -5.70072993e+00],\n",
      "       [  3.62275449e-02,  -6.07299270e+00],\n",
      "       [  4.04191617e-02,  -6.56934307e+00],\n",
      "       [  4.19161677e-02,  -6.75425791e+00],\n",
      "       [  4.91017964e-02,  -7.56204380e+00],\n",
      "       [  5.65868263e-02,  -8.30656934e+00],\n",
      "       [  6.40718563e-02,  -8.91240876e+00],\n",
      "       [  7.12574850e-02,  -9.40145985e+00],\n",
      "       [  7.36526946e-02,  -9.53284672e+00],\n",
      "       [  7.93413174e-02,  -9.82238443e+00],\n",
      "       [  8.68263473e-02,  -1.01459854e+01],\n",
      "       [  9.04191617e-02,  -1.02773723e+01],\n",
      "       [  9.43712575e-02,  -1.04029197e+01],\n",
      "       [  9.77544910e-02,  -1.05109489e+01],\n",
      "       [  1.01197605e-01,  -1.06034063e+01],\n",
      "       [  1.08832335e-01,  -1.07956204e+01],\n",
      "       [  1.12275449e-01,  -1.08759124e+01],\n",
      "       [  1.15718563e-01,  -1.09452555e+01],\n",
      "       [  1.19161677e-01,  -1.10121655e+01],\n",
      "       [  1.25548902e-01,  -1.11386861e+01],\n",
      "       [  1.29341317e-01,  -1.11897810e+01],\n",
      "       [  1.32634731e-01,  -1.12384428e+01],\n",
      "       [  1.36047904e-01,  -1.12905109e+01],\n",
      "       [  1.39820359e-01,  -1.13284672e+01],\n",
      "       [  1.44011976e-01,  -1.13868613e+01],\n",
      "       [  1.49101796e-01,  -1.14452555e+01],\n",
      "       [  1.53592814e-01,  -1.15036496e+01],\n",
      "       [  1.58203593e-01,  -1.15532847e+01],\n",
      "       [  1.61976048e-01,  -1.15888078e+01],\n",
      "       [  1.65568862e-01,  -1.16253041e+01],\n",
      "       [  1.69161677e-01,  -1.16593674e+01],\n",
      "       [  1.71856287e-01,  -1.16934307e+01],\n",
      "       [  1.76047904e-01,  -1.17323601e+01],\n",
      "       [  1.78742515e-01,  -1.17518248e+01],\n",
      "       [  1.84730539e-01,  -1.18102190e+01],\n",
      "       [  1.91916168e-01,  -1.18686131e+01],\n",
      "       [  1.95808383e-01,  -1.18978102e+01],\n",
      "       [  2.01497006e-01,  -1.19270073e+01],\n",
      "       [  2.05089820e-01,  -1.19562044e+01],\n",
      "       [  2.08682635e-01,  -1.19781022e+01],\n",
      "       [  2.12275449e-01,  -1.19902676e+01],\n",
      "       [  2.15868263e-01,  -1.20145985e+01],\n",
      "       [  2.19461078e-01,  -1.20340633e+01],\n",
      "       [  2.23652695e-01,  -1.20559611e+01],\n",
      "       [  2.27245509e-01,  -1.20729927e+01],\n",
      "       [  2.34131737e-01,  -1.21021898e+01],\n",
      "       [  2.40419162e-01,  -1.21313869e+01],\n",
      "       [  2.49101796e-01,  -1.21605839e+01],\n",
      "       [  2.56287425e-01,  -1.21897810e+01],\n",
      "       [  2.63473054e-01,  -1.22189781e+01],\n",
      "       [  2.70538922e-01,  -1.22481752e+01],\n",
      "       [  2.76946108e-01,  -1.22773723e+01],\n",
      "       [  2.82994012e-01,  -1.23065693e+01],\n",
      "       [  2.86227545e-01,  -1.23065693e+01],\n",
      "       [  2.90718563e-01,  -1.23309002e+01],\n",
      "       [  2.94311377e-01,  -1.23381995e+01],\n",
      "       [  2.97904192e-01,  -1.23527981e+01],\n",
      "       [  3.01497006e-01,  -1.23649635e+01],\n",
      "       [  3.05089820e-01,  -1.23649635e+01],\n",
      "       [  3.08682635e-01,  -1.23649635e+01],\n",
      "       [  3.12275449e-01,  -1.23649635e+01],\n",
      "       [  3.15868263e-01,  -1.23649635e+01],\n",
      "       [  3.19461078e-01,  -1.23527981e+01],\n",
      "       [  3.23053892e-01,  -1.23357664e+01],\n",
      "       [  3.26646707e-01,  -1.23333333e+01],\n",
      "       [  3.30239521e-01,  -1.23260341e+01],\n",
      "       [  3.32934132e-01,  -1.23065693e+01],\n",
      "       [  3.38323353e-01,  -1.22481752e+01],\n",
      "       [  3.44311377e-01,  -1.21313869e+01],\n",
      "       [  3.48023952e-01,  -1.20321168e+01],\n",
      "       [  3.51796407e-01,  -1.18832117e+01],\n",
      "       [  3.55089820e-01,  -1.16788321e+01],\n",
      "       [  3.57485030e-01,  -1.14793187e+01],\n",
      "       [  3.59281437e-01,  -1.12749392e+01],\n",
      "       [  3.60778443e-01,  -1.10583942e+01],\n",
      "       [  3.63473054e-01,  -1.05255474e+01],\n",
      "       [  3.65269461e-01,  -9.86861314e+00],\n",
      "       [  3.65868263e-01,   3.50364964e-01],\n",
      "       [  3.65868263e-01,   1.75182482e-01],\n",
      "       [  3.66467066e-01,  -4.86618005e-02],\n",
      "       [  3.65868263e-01,  -1.75182482e-01],\n",
      "       [  3.65868263e-01,  -3.50364964e-01],\n",
      "       [  3.65868263e-01,  -5.25547445e-01],\n",
      "       [  3.65868263e-01,  -7.00729927e-01],\n",
      "       [  3.65868263e-01,  -8.75912409e-01],\n",
      "       [  3.65868263e-01,  -1.05109489e+00],\n",
      "       [  3.65868263e-01,  -1.22627737e+00],\n",
      "       [  3.65868263e-01,  -1.40145985e+00],\n",
      "       [  3.65868263e-01,  -1.57664234e+00],\n",
      "       [  3.65868263e-01,  -1.75182482e+00],\n",
      "       [  3.65868263e-01,  -1.92700730e+00],\n",
      "       [  3.65868263e-01,  -2.10218978e+00],\n",
      "       [  3.65868263e-01,  -2.27737226e+00],\n",
      "       [  3.65868263e-01,  -2.45255474e+00],\n",
      "       [  3.65868263e-01,  -2.62773723e+00],\n",
      "       [  3.65868263e-01,  -2.80291971e+00],\n",
      "       [  3.65868263e-01,  -2.97810219e+00],\n",
      "       [  3.65868263e-01,  -3.15328467e+00],\n",
      "       [  3.65868263e-01,  -3.32846715e+00],\n",
      "       [  3.65868263e-01,  -3.50364964e+00],\n",
      "       [  3.65868263e-01,  -3.67883212e+00],\n",
      "       [  3.65868263e-01,  -3.85401460e+00],\n",
      "       [  3.65868263e-01,  -4.02919708e+00],\n",
      "       [  3.65868263e-01,  -4.20437956e+00],\n",
      "       [  3.65868263e-01,  -4.37956204e+00],\n",
      "       [  3.65868263e-01,  -4.55474453e+00],\n",
      "       [  3.65868263e-01,  -4.72992701e+00],\n",
      "       [  3.65868263e-01,  -4.90510949e+00],\n",
      "       [  3.65868263e-01,  -5.08029197e+00],\n",
      "       [  3.65868263e-01,  -5.25547445e+00],\n",
      "       [  3.65868263e-01,  -5.43065693e+00],\n",
      "       [  3.65868263e-01,  -5.60583942e+00],\n",
      "       [  3.65868263e-01,  -5.78102190e+00],\n",
      "       [  3.65868263e-01,  -5.95620438e+00],\n",
      "       [  3.65868263e-01,  -6.13138686e+00],\n",
      "       [  3.65868263e-01,  -6.30656934e+00],\n",
      "       [  3.65868263e-01,  -6.48175182e+00],\n",
      "       [  3.65868263e-01,  -6.65693431e+00],\n",
      "       [  3.65868263e-01,  -6.83211679e+00],\n",
      "       [  3.65868263e-01,  -7.00729927e+00],\n",
      "       [  3.65868263e-01,  -7.18248175e+00],\n",
      "       [  3.65868263e-01,  -7.35766423e+00],\n",
      "       [  3.65868263e-01,  -7.53284672e+00],\n",
      "       [  3.65868263e-01,  -7.70802920e+00],\n",
      "       [  3.65868263e-01,  -7.88321168e+00],\n",
      "       [  3.65868263e-01,  -8.05839416e+00],\n",
      "       [  3.65868263e-01,  -8.23357664e+00],\n",
      "       [  3.65868263e-01,  -8.40875912e+00],\n",
      "       [  3.65868263e-01,  -8.58394161e+00],\n",
      "       [  3.65868263e-01,  -8.75912409e+00],\n",
      "       [  3.65868263e-01,  -8.93430657e+00],\n",
      "       [  3.65868263e-01,  -9.10948905e+00],\n",
      "       [  3.65868263e-01,  -9.28467153e+00],\n",
      "       [  3.65868263e-01,  -9.45985401e+00],\n",
      "       [  3.65868263e-01,  -9.63503650e+00],\n",
      "       [  3.83832335e-01,  -3.28467153e-02],\n",
      "       [  3.85928144e-01,  -4.37956204e-02],\n",
      "       [  4.08383234e-01,   0.00000000e+00],\n",
      "       [  4.19960080e-01,   1.45985401e-02],\n",
      "       [  4.26347305e-01,   1.45985401e-02],\n",
      "       [  4.42315369e-01,  -4.86618005e-03],\n",
      "       [  4.44311377e-01,   1.45985401e-02],\n",
      "       [  4.54890220e-01,  -4.37956204e-02],\n",
      "       [  4.78143713e-01,  -1.45985401e-02],\n",
      "       [  4.81137725e-01,  -1.45985401e-02]])"
     ],
     "language": "python",
     "metadata": {},
     "outputs": [],
     "prompt_number": 10
    },
    {
     "cell_type": "code",
     "collapsed": false,
     "input": [
      "%magic\n"
     ],
     "language": "python",
     "metadata": {},
     "outputs": [],
     "prompt_number": 11
    },
    {
     "cell_type": "heading",
     "level": 1,
     "metadata": {},
     "source": [
      "Latex"
     ]
    },
    {
     "cell_type": "code",
     "collapsed": false,
     "input": [
      "from IPython.display import Math\n",
      "Math(r'F(k) = \\int_{-\\infty}^{\\infty} f(x) e^{2\\pi i k} dx')"
     ],
     "language": "python",
     "metadata": {},
     "outputs": [
      {
       "latex": [
        "$$F(k) = \\int_{-\\infty}^{\\infty} f(x) e^{2\\pi i k} dx$$"
       ],
       "metadata": {},
       "output_type": "pyout",
       "prompt_number": 12,
       "text": [
        "<IPython.core.display.Math at 0x3bedb10>"
       ]
      }
     ],
     "prompt_number": 12
    },
    {
     "cell_type": "code",
     "collapsed": false,
     "input": [
      "%%latex\n",
      "\\begin{align}\n",
      "\\nabla \\times \\vec{\\mathbf{B}} -\\, \\frac1c\\, \\frac{\\partial\\vec{\\mathbf{E}}}{\\partial t} & = \\frac{4\\pi}{c}\\vec{\\mathbf{j}} \\\\\n",
      "\\nabla \\cdot \\vec{\\mathbf{E}} & = 4 \\pi \\rho \\\\\n",
      "\\nabla \\times \\vec{\\mathbf{E}}\\, +\\, \\frac1c\\, \\frac{\\partial\\vec{\\mathbf{B}}}{\\partial t} & = \\vec{\\mathbf{0}} \\\\\n",
      "\\nabla \\cdot \\vec{\\mathbf{B}} & = 0\n",
      "\\end{align}"
     ],
     "language": "python",
     "metadata": {},
     "outputs": [
      {
       "latex": [
        "\\begin{align}\n",
        "\\nabla \\times \\vec{\\mathbf{B}} -\\, \\frac1c\\, \\frac{\\partial\\vec{\\mathbf{E}}}{\\partial t} & = \\frac{4\\pi}{c}\\vec{\\mathbf{j}} \\\\\n",
        "\\nabla \\cdot \\vec{\\mathbf{E}} & = 4 \\pi \\rho \\\\\n",
        "\\nabla \\times \\vec{\\mathbf{E}}\\, +\\, \\frac1c\\, \\frac{\\partial\\vec{\\mathbf{B}}}{\\partial t} & = \\vec{\\mathbf{0}} \\\\\n",
        "\\nabla \\cdot \\vec{\\mathbf{B}} & = 0\n",
        "\\end{align}"
       ],
       "metadata": {},
       "output_type": "display_data",
       "text": [
        "<IPython.core.display.Latex at 0x3bedd10>"
       ]
      }
     ],
     "prompt_number": 13
    },
    {
     "cell_type": "heading",
     "level": 1,
     "metadata": {},
     "source": [
      "Symbolic variables"
     ]
    },
    {
     "cell_type": "code",
     "collapsed": false,
     "input": [
      "from sympy import *\n",
      "from IPython.display import display"
     ],
     "language": "python",
     "metadata": {},
     "outputs": [],
     "prompt_number": 14
    },
    {
     "cell_type": "code",
     "collapsed": false,
     "input": [
      "init_printing()"
     ],
     "language": "python",
     "metadata": {},
     "outputs": [],
     "prompt_number": 15
    },
    {
     "cell_type": "code",
     "collapsed": false,
     "input": [
      "x = Symbol('x')"
     ],
     "language": "python",
     "metadata": {},
     "outputs": [],
     "prompt_number": 16
    },
    {
     "cell_type": "code",
     "collapsed": false,
     "input": [
      "(pi + x)**2"
     ],
     "language": "python",
     "metadata": {},
     "outputs": [
      {
       "latex": [
        "$$\\left(x + \\pi\\right)^{2}$$"
       ],
       "metadata": {},
       "output_type": "pyout",
       "png": "[encoded data removed]",
       "prompt_number": 17,
       "text": [
        "       2\n",
        "(x + \u03c0) "
       ]
      }
     ],
     "prompt_number": 17
    },
    {
     "cell_type": "heading",
     "level": 1,
     "metadata": {},
     "source": [
      "Startup Files and Profiles"
     ]
    },
    {
     "cell_type": "markdown",
     "metadata": {},
     "source": [
      "Startup files for IPython are located in ~/.ipython/profile_default/startup in a linux environment. \n",
      "File types.py and .ipy files in this directory will be run *prior* to any code or files specified\n",
      "via the exec_lines or exec_files configurables whenever you load this profile.\n",
      "\n",
      "Files will be run in lexicographical order, so you can control the execution order of files\n",
      "with a prefix, e.g.:\n",
      "\n",
      "    00-first.py\n",
      "    50-middle.py\n",
      "    99-last.ipy\n",
      "\n",
      "Additional profiles can be defined in new folders i.e. ~/.ipython/profile_custom. To launch IPython using these custom profiles use the command:<br>\n",
      "\n",
      "<span style=\"color:red\"> *ipython --profile profile_custom* </span>\n"
     ]
    },
    {
     "cell_type": "heading",
     "level": 2,
     "metadata": {},
     "source": [
      "Test 1: Elastic normal impact of two identical spheres"
     ]
    },
    {
     "cell_type": "code",
     "collapsed": false,
     "input": [
      "%%latex \n",
      "\\begin{equation}\n",
      "T = 2,943 \\left [ \\frac{5 \\sqrt{2}}{4} \\frac{\\pi \\rho (1-\\nu^2)}{E} \\right ]^{\\frac{2}{5}} \\frac{r}{V_{rela}^{\\frac{1}{5}}}\n",
      "\\end{equation}"
     ],
     "language": "python",
     "metadata": {},
     "outputs": [
      {
       "latex": [
        "\\begin{equation}\n",
        "T = 2,943 \\left [ \\frac{5 \\sqrt{2}}{4} \\frac{\\pi \\rho (1-\\nu^2)}{E} \\right ]^{\\frac{2}{5}} \\frac{r}{V_{rela}^{\\frac{1}{5}}}\n",
        "\\end{equation}"
       ],
       "metadata": {},
       "output_type": "display_data",
       "text": [
        "<IPython.core.display.Latex at 0x4f56a10>"
       ]
      }
     ],
     "prompt_number": 18
    },
    {
     "cell_type": "code",
     "collapsed": false,
     "input": [
      "def coll_time(radius, E, rho, nu,v_rel):\n",
      "    t = 2.943 * ((5.0 * np.sqrt(2.0)/4.0) * (np.pi * rho * (1.0 - nu**2))/E)**(2.0/5.0) * radius/v_rel**(1.0/5.0)\n",
      "    return t"
     ],
     "language": "python",
     "metadata": {},
     "outputs": [],
     "prompt_number": 19
    },
    {
     "cell_type": "code",
     "collapsed": false,
     "input": [
      "youngs_mod1 = 2.0e+10\n",
      "time1 = coll_time(0.01, youngs_mod1, 2500.0, 0.25, 20)\n",
      "print(time1)"
     ],
     "language": "python",
     "metadata": {},
     "outputs": [
      {
       "output_type": "stream",
       "stream": "stdout",
       "text": [
        "5.41959373602e-05\n"
       ]
      }
     ],
     "prompt_number": 20
    },
    {
     "cell_type": "code",
     "collapsed": false,
     "input": [
      "youngs_mod2 = 4.80e+10\n",
      "time2 = coll_time(0.01, youngs_mod2, 2800.0, 0.20, 20)\n",
      "print(time2)"
     ],
     "language": "python",
     "metadata": {},
     "outputs": [
      {
       "output_type": "stream",
       "stream": "stdout",
       "text": [
        "4.03356841124e-05\n"
       ]
      }
     ],
     "prompt_number": 21
    },
    {
     "cell_type": "code",
     "collapsed": false,
     "input": [
      "%%latex \n",
      "\\begin{equation}\n",
      "\\alpha_{max} = \\left [ \\frac{5 \\sqrt{2}}{4} \\frac{\\pi \\rho (1-\\nu^2)}{E} \\right ]^{\\frac{2}{5}} r V_{rela}^{\\frac{4}{5}}\n",
      "\\end{equation}"
     ],
     "language": "python",
     "metadata": {},
     "outputs": [
      {
       "latex": [
        "\\begin{equation}\n",
        "\\alpha_{max} = \\left [ \\frac{5 \\sqrt{2}}{4} \\frac{\\pi \\rho (1-\\nu^2)}{E} \\right ]^{\\frac{2}{5}} r V_{rela}^{\\frac{4}{5}}\n",
        "\\end{equation}"
       ],
       "metadata": {},
       "output_type": "display_data",
       "text": [
        "<IPython.core.display.Latex at 0x4f56610>"
       ]
      }
     ],
     "prompt_number": 22
    },
    {
     "cell_type": "code",
     "collapsed": false,
     "input": [
      "def normal_disp(radius, E, rho, nu,v_rel):\n",
      "    alpha = ((5.0 * np.sqrt(2.0)/4.0) * (np.pi * rho * (1.0 - nu**2))/E)**(2.0/5.0) * radius * v_rel**(4.0/5.0)\n",
      "    return alpha"
     ],
     "language": "python",
     "metadata": {},
     "outputs": [],
     "prompt_number": 23
    },
    {
     "cell_type": "code",
     "collapsed": false,
     "input": [
      "alpha1=normal_disp(0.01, youngs_mod1, 2500.0, 0.25, 20)\n",
      "print(alpha1*1.0e+6)"
     ],
     "language": "python",
     "metadata": {},
     "outputs": [
      {
       "output_type": "stream",
       "stream": "stdout",
       "text": [
        "368.304025553\n"
       ]
      }
     ],
     "prompt_number": 24
    },
    {
     "cell_type": "code",
     "collapsed": false,
     "input": [
      "alpha2=normal_disp(0.01, youngs_mod2, 2800.0, 0.2, 20)\n",
      "print(alpha2*1.0e+6)"
     ],
     "language": "python",
     "metadata": {},
     "outputs": [
      {
       "output_type": "stream",
       "stream": "stdout",
       "text": [
        "274.112702089\n"
       ]
      }
     ],
     "prompt_number": 25
    },
    {
     "cell_type": "code",
     "collapsed": false,
     "input": [
      "%%latex \n",
      "\\begin{equation}\n",
      "P_{max} = \\left [ \\frac{2}{9} \\frac{r E^2}{(1-\\nu^2)} \\right ]^{\\frac{1}{2}} \\alpha_{max}^{\\frac{3}{2}}\n",
      "\\end{equation}"
     ],
     "language": "python",
     "metadata": {},
     "outputs": [
      {
       "latex": [
        "\\begin{equation}\n",
        "P_{max} = \\left [ \\frac{2}{9} \\frac{r E^2}{(1-\\nu^2)} \\right ]^{\\frac{1}{2}} \\alpha_{max}^{\\frac{3}{2}}\n",
        "\\end{equation}"
       ],
       "metadata": {},
       "output_type": "display_data",
       "text": [
        "<IPython.core.display.Latex at 0x4f56ad0>"
       ]
      }
     ],
     "prompt_number": 26
    },
    {
     "cell_type": "code",
     "collapsed": false,
     "input": [
      "def normal_force(radius, E, rho, nu,v_rel):\n",
      "    alpha = normal_disp(radius, E, rho, nu, v_rel)\n",
      "    p = ((2.0/9.0) * (radius * E**2.0)/(1.0 - nu**2.0)**(2.0))**(1.0/2.0) * alpha**(3.0/2.0)\n",
      "    return p"
     ],
     "language": "python",
     "metadata": {},
     "outputs": [],
     "prompt_number": 27
    },
    {
     "cell_type": "code",
     "collapsed": false,
     "input": [
      "normal_force1=normal_force(0.01, youngs_mod1, 2500.0, 0.25, 20)\n",
      "print(normal_force1)"
     ],
     "language": "python",
     "metadata": {},
     "outputs": [
      {
       "output_type": "stream",
       "stream": "stdout",
       "text": [
        "7108.2412799\n"
       ]
      }
     ],
     "prompt_number": 28
    },
    {
     "cell_type": "code",
     "collapsed": false,
     "input": [
      "normal_force2=normal_force(0.01, youngs_mod2, 2800.0, 0.2, 20)\n",
      "print(normal_force2)"
     ],
     "language": "python",
     "metadata": {},
     "outputs": [
      {
       "output_type": "stream",
       "stream": "stdout",
       "text": [
        "10696.888984\n"
       ]
      }
     ],
     "prompt_number": 29
    },
    {
     "cell_type": "code",
     "collapsed": false,
     "input": [
      "%cd /home/rafa/code/FullC0ntact-github/FullC0ntact-Github/FullC0ntact/applications/sequentialimpulses\n"
     ],
     "language": "python",
     "metadata": {},
     "outputs": [
      {
       "output_type": "stream",
       "stream": "stdout",
       "text": [
        "/home/rafa/code/FullC0ntact-github/FullC0ntact-Github/FullC0ntact/applications/sequentialimpulses\n"
       ]
      }
     ],
     "prompt_number": 30
    },
    {
     "cell_type": "code",
     "collapsed": false,
     "input": [
      "mydata=np.loadtxt('kN.dat')"
     ],
     "language": "python",
     "metadata": {},
     "outputs": [],
     "prompt_number": 31
    },
    {
     "cell_type": "code",
     "collapsed": false,
     "input": [
      "%matplotlib inline"
     ],
     "language": "python",
     "metadata": {},
     "outputs": [],
     "prompt_number": 32
    },
    {
     "cell_type": "code",
     "collapsed": false,
     "input": [
      "y = np.abs(mydata[:,1])\n",
      "plt.plot(mydata[:,0],y,linewidth=2)\n",
      "plt.xlabel(r\"time[s]\")\n",
      "plt.ylabel(r\"contact force kN\")\n",
      "plt.xlim([0.0,0.055])"
     ],
     "language": "python",
     "metadata": {},
     "outputs": [
      {
       "latex": [
        "$$\\left ( 0.0, \\quad 0.055\\right )$$"
       ],
       "metadata": {},
       "output_type": "pyout",
       "png": "[encoded data removed]",
       "prompt_number": 33,
       "text": [
        "(0.0, 0.055)"
       ]
      },
      {
       "metadata": {},
       "output_type": "display_data",
       "png": "[encoded data removed]",
       "text": [
        "<matplotlib.figure.Figure at 0x50064d0>"
       ]
      }
     ],
     "prompt_number": 33
    },
    {
     "cell_type": "code",
     "collapsed": false,
     "input": [
      "displacement = np.loadtxt('displacement.dat')\n",
      "np.argmax(displacement)\n",
      "loading = displacement[0:276]\n",
      "unloading = displacement[276:]"
     ],
     "language": "python",
     "metadata": {},
     "outputs": [],
     "prompt_number": 34
    },
    {
     "cell_type": "code",
     "collapsed": false,
     "input": [
      "plt.plot(displacement[0:272:2],y[0:272:2],color='red',marker='^',linewidth=2)\n",
      "plt.plot(displacement[273::2],y[273::2],color='orange',marker='^',linewidth=2)\n",
      "plt.plot()\n",
      "plt.xlabel(r\"normal displacement\")\n",
      "plt.ylabel(r\"contact force kN\")\n",
      "plt.xlim([0.0,0.005])"
     ],
     "language": "python",
     "metadata": {},
     "outputs": [
      {
       "latex": [
        "$$\\left ( 0.0, \\quad 0.005\\right )$$"
       ],
       "metadata": {},
       "output_type": "pyout",
       "png": "[encoded data removed]",
       "prompt_number": 35,
       "text": [
        "(0.0, 0.005)"
       ]
      },
      {
       "metadata": {},
       "output_type": "display_data",
       "png": "[encoded data removed]",
       "text": [
        "<matplotlib.figure.Figure at 0x5012c90>"
       ]
      }
     ],
     "prompt_number": 35
    },
    {
     "cell_type": "heading",
     "level": 2,
     "metadata": {},
     "source": [
      "Test 2: Elastic normal impact of a sphere with a rigid plane"
     ]
    },
    {
     "cell_type": "code",
     "collapsed": false,
     "input": [
      "fp=np.loadtxt(\"force_plane.txt\")\n",
      "plt.plot(fp[:,0],fp[:,1],color='orange',linewidth=2)\n",
      "plt.xlabel(r\"time[s]\")\n",
      "plt.ylabel(r\"contact force kN\")\n",
      "plt.xlim([0.04,0.07])"
     ],
     "language": "python",
     "metadata": {},
     "outputs": [
      {
       "latex": [
        "$$\\left ( 0.04, \\quad 0.07\\right )$$"
       ],
       "metadata": {},
       "output_type": "pyout",
       "png": "[encoded data removed]",
       "prompt_number": 36,
       "text": [
        "(0.04, 0.07)"
       ]
      },
      {
       "metadata": {},
       "output_type": "display_data",
       "png": "[encoded data removed]",
       "text": [
        "<matplotlib.figure.Figure at 0x4f6be50>"
       ]
      }
     ],
     "prompt_number": 36
    },
    {
     "cell_type": "code",
     "collapsed": false,
     "input": [
      "print(fp[:,1])"
     ],
     "language": "python",
     "metadata": {},
     "outputs": [
      {
       "output_type": "stream",
       "stream": "stdout",
       "text": [
        "[ 0.  0.  0. ...,  0.  0.  0.]\n"
       ]
      }
     ],
     "prompt_number": 43
    },
    {
     "cell_type": "code",
     "collapsed": false,
     "input": [
      "disp_force = np.loadtxt(\"force_disp.txt\")\n",
      "\n",
      "plt.plot(disp_force[0:48,0],disp_force[0:48,1],color='orange',marker='^',linewidth=2)\n",
      "plt.plot(disp_force[48:,0],disp_force[48:,1],color='red',marker='^',linewidth=2)\n",
      "plt.plot()\n",
      "plt.xlabel(r\"normal displacement\")\n",
      "plt.ylabel(r\"contact force kN\")\n",
      "#plt.xlim([0.04,0.07])\n",
      "np.argmax(disp_force[:,1])"
     ],
     "language": "python",
     "metadata": {},
     "outputs": [
      {
       "latex": [
        "$$48$$"
       ],
       "metadata": {},
       "output_type": "pyout",
       "png": "[encoded data removed]",
       "prompt_number": 37,
       "text": [
        "48"
       ]
      },
      {
       "metadata": {},
       "output_type": "display_data",
       "png": "[encoded data removed]",
       "text": [
        "<matplotlib.figure.Figure at 0x5281450>"
       ]
      }
     ],
     "prompt_number": 37
    },
    {
     "cell_type": "code",
     "collapsed": false,
     "input": [
      "disp_force"
     ],
     "language": "python",
     "metadata": {},
     "outputs": [
      {
       "metadata": {},
       "output_type": "pyout",
       "prompt_number": 38,
       "text": [
        "array([[  0.00000000e+00,   0.00000000e+00],\n",
        "       [  9.95037000e-15,   0.00000000e+00],\n",
        "       [  2.00000000e-05,   0.00000000e+00],\n",
        "       [  4.00000000e-05,   0.00000000e+00],\n",
        "       [  6.00000000e-05,   0.00000000e+00],\n",
        "       [  8.00000000e-05,   0.00000000e+00],\n",
        "       [  1.00000000e-04,   0.00000000e+00],\n",
        "       [  1.20000000e-04,   3.16443000e+00],\n",
        "       [  1.39979000e-04,   6.42121000e+00],\n",
        "       [  1.59878000e-04,   9.69214000e+00],\n",
        "       [  1.79664000e-04,   1.29713000e+01],\n",
        "       [  1.99304000e-04,   1.62536000e+01],\n",
        "       [  2.18765000e-04,   1.95335000e+01],\n",
        "       [  2.38014000e-04,   2.28058000e+01],\n",
        "       [  2.57019000e-04,   2.60652000e+01],\n",
        "       [  2.75747000e-04,   2.93063000e+01],\n",
        "       [  2.94165000e-04,   3.25236000e+01],\n",
        "       [  3.12242000e-04,   3.57118000e+01],\n",
        "       [  3.29946000e-04,   3.88655000e+01],\n",
        "       [  3.47245000e-04,   4.19794000e+01],\n",
        "       [  3.64108000e-04,   4.50481000e+01],\n",
        "       [  3.80505000e-04,   4.80663000e+01],\n",
        "       [  3.96405000e-04,   5.10287000e+01],\n",
        "       [  4.11780000e-04,   5.39303000e+01],\n",
        "       [  4.26601000e-04,   5.67657000e+01],\n",
        "       [  4.40840000e-04,   5.95300000e+01],\n",
        "       [  4.54469000e-04,   6.22181000e+01],\n",
        "       [  4.67461000e-04,   6.48251000e+01],\n",
        "       [  4.79792000e-04,   6.73462000e+01],\n",
        "       [  4.91435000e-04,   6.97767000e+01],\n",
        "       [  5.02368000e-04,   7.21120000e+01],\n",
        "       [  5.12568000e-04,   7.43476000e+01],\n",
        "       [  5.22012000e-04,   7.64791000e+01],\n",
        "       [  5.30680000e-04,   7.85024000e+01],\n",
        "       [  5.38551000e-04,   8.04134000e+01],\n",
        "       [  5.45608000e-04,   8.22082000e+01],\n",
        "       [  5.51833000e-04,   8.38829000e+01],\n",
        "       [  5.57210000e-04,   8.54340000e+01],\n",
        "       [  5.61724000e-04,   8.68581000e+01],\n",
        "       [  5.65361000e-04,   8.81520000e+01],\n",
        "       [  5.68109000e-04,   8.93126000e+01],\n",
        "       [  5.69956000e-04,   9.03370000e+01],\n",
        "       [  5.70894000e-04,   9.12226000e+01],\n",
        "       [  5.70915000e-04,   9.19669000e+01],\n",
        "       [  5.70011000e-04,   9.25677000e+01],\n",
        "       [  5.68177000e-04,   9.30230000e+01],\n",
        "       [  5.65409000e-04,   9.33309000e+01],\n",
        "       [  5.61705000e-04,   9.34900000e+01],\n",
        "       [  5.57064000e-04,   9.34988000e+01],\n",
        "       [  5.51487000e-04,   9.33562000e+01],\n",
        "       [  5.44976000e-04,   9.30613000e+01],\n",
        "       [  5.37534000e-04,   9.26136000e+01],\n",
        "       [  5.29167000e-04,   9.20125000e+01],\n",
        "       [  5.19882000e-04,   9.12581000e+01],\n",
        "       [  5.09687000e-04,   9.03503000e+01],\n",
        "       [  4.98591000e-04,   8.92895000e+01],\n",
        "       [  4.86607000e-04,   8.80763000e+01],\n",
        "       [  4.73747000e-04,   8.67115000e+01],\n",
        "       [  4.60025000e-04,   8.51963000e+01],\n",
        "       [  4.45457000e-04,   8.35321000e+01],\n",
        "       [  4.30061000e-04,   8.17203000e+01],\n",
        "       [  4.13856000e-04,   7.97629000e+01],\n",
        "       [  3.96862000e-04,   7.76619000e+01],\n",
        "       [  3.79101000e-04,   7.54198000e+01],\n",
        "       [  3.60595000e-04,   7.30391000e+01],\n",
        "       [  3.41370000e-04,   7.05226000e+01],\n",
        "       [  3.21450000e-04,   6.78735000e+01],\n",
        "       [  3.00865000e-04,   6.50950000e+01],\n",
        "       [  2.79641000e-04,   6.21908000e+01],\n",
        "       [  2.57809000e-04,   5.91645000e+01],\n",
        "       [  2.35399000e-04,   5.60202000e+01],\n",
        "       [  2.12444000e-04,   5.27622000e+01],\n",
        "       [  1.88976000e-04,   4.93948000e+01],\n",
        "       [  1.65030000e-04,   4.59228000e+01],\n",
        "       [  1.40642000e-04,   4.23509000e+01],\n",
        "       [  1.15847000e-04,   3.86843000e+01],\n",
        "       [  9.06833000e-05,   3.49281000e+01],\n",
        "       [  6.51879000e-05,   3.10879000e+01],\n",
        "       [  3.94002000e-05,   2.71691000e+01],\n",
        "       [  1.33598000e-05,   2.31777000e+01],\n",
        "       [  0.00000000e+00,   0.00000000e+00]])"
       ]
      }
     ],
     "prompt_number": 38
    }
   ],
   "metadata": {}
  }
 ]
}