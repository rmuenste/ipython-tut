{
 "metadata": {
  "name": "",
  "signature": "sha256:0f29b9d7a9987e51e027211ec083886fc8cac764186e95588ed8580b11fcf894"
 },
 "nbformat": 3,
 "nbformat_minor": 0,
 "worksheets": [
  {
   "cells": [
    {
     "cell_type": "code",
     "collapsed": false,
     "input": [
      "import os\n",
      "import numpy as np\n",
      "import matplotlib.pyplot as plt\n",
      "from pprint import pprint\n"
     ],
     "language": "python",
     "metadata": {},
     "outputs": [],
     "prompt_number": 2
    },
    {
     "cell_type": "code",
     "collapsed": false,
     "input": [
      "%%javascript\n",
      "IPython.load_extensions('usability/codefolding/codefolding');"
     ],
     "language": "python",
     "metadata": {},
     "outputs": [
      {
       "javascript": [
        "IPython.load_extensions('usability/codefolding/codefolding');"
       ],
       "metadata": {},
       "output_type": "display_data",
       "text": [
        "<IPython.core.display.Javascript at 0x397bb90>"
       ]
      }
     ],
     "prompt_number": 5
    },
    {
     "cell_type": "code",
     "collapsed": false,
     "input": [
      "print(dir(plt))\n"
     ],
     "language": "python",
     "metadata": {},
     "outputs": [
      {
       "output_type": "stream",
       "stream": "stdout",
       "text": [
        "['Annotation', 'Arrow', 'Artist', 'AutoLocator', 'Axes', 'Button', 'Circle', 'Figure', 'FigureCanvasBase', 'FixedFormatter', 'FixedLocator', 'FormatStrFormatter', 'Formatter', 'FuncFormatter', 'GridSpec', 'IndexLocator', 'Line2D', 'LinearLocator', 'Locator', 'LogFormatter', 'LogFormatterExponent', 'LogFormatterMathtext', 'LogLocator', 'MaxNLocator', 'MultipleLocator', 'Normalize', 'NullFormatter', 'NullLocator', 'PolarAxes', 'Polygon', 'Rectangle', 'ScalarFormatter', 'Slider', 'Subplot', 'SubplotTool', 'Text', 'TickHelper', 'Widget', '__builtins__', '__doc__', '__file__', '__name__', '__package__', '_backend_selection', '_imread', '_imsave', '_interactive_bk', '_pylab_helpers', '_setp', '_show', '_string_to_bool', 'acorr', 'annotate', 'arrow', 'autogen_docstring', 'autoscale', 'autumn', 'axes', 'axhline', 'axhspan', 'axis', 'axvline', 'axvspan', 'bar', 'barbs', 'barh', 'bone', 'box', 'boxplot', 'broken_barh', 'cla', 'clabel', 'clf', 'clim', 'close', 'cm', 'cohere', 'colorbar', 'colormaps', 'colors', 'connect', 'contour', 'contourf', 'cool', 'copper', 'csd', 'dedent', 'delaxes', 'disconnect', 'docstring', 'draw', 'draw_if_interactive', 'errorbar', 'figaspect', 'figimage', 'figlegend', 'fignum_exists', 'figtext', 'figure', 'fill', 'fill_between', 'fill_betweenx', 'findobj', 'flag', 'gca', 'gcf', 'gci', 'get', 'get_backend', 'get_cmap', 'get_current_fig_manager', 'get_figlabels', 'get_fignums', 'get_plot_commands', 'get_scale_docs', 'get_scale_names', 'getp', 'ginput', 'gray', 'grid', 'hexbin', 'hist', 'hlines', 'hold', 'hot', 'hsv', 'imread', 'imsave', 'imshow', 'interactive', 'ioff', 'ion', 'is_numlike', 'is_string_like', 'ishold', 'isinteractive', 'jet', 'legend', 'locator_params', 'loglog', 'margins', 'matplotlib', 'matshow', 'minorticks_off', 'minorticks_on', 'mlab', 'new_figure_manager', 'normalize', 'np', 'over', 'pause', 'pcolor', 'pcolormesh', 'pie', 'pink', 'plot', 'plot_date', 'plotfile', 'plotting', 'polar', 'prism', 'psd', 'pylab_setup', 'quiver', 'quiverkey', 'rc', 'rcParams', 'rcParamsDefault', 'rcdefaults', 'register_cmap', 'rgrids', 'savefig', 'sca', 'scatter', 'sci', 'semilogx', 'semilogy', 'set_cmap', 'setp', 'show', 'silent_list', 'specgram', 'spectral', 'spring', 'spy', 'stem', 'step', 'subplot', 'subplot2grid', 'subplot_tool', 'subplots', 'subplots_adjust', 'summer', 'suptitle', 'switch_backend', 'sys', 'table', 'text', 'thetagrids', 'tick_params', 'ticklabel_format', 'tight_layout', 'title', 'tricontour', 'tricontourf', 'tripcolor', 'triplot', 'twinx', 'twiny', 'vlines', 'waitforbuttonpress', 'warnings', 'winter', 'xcorr', 'xlabel', 'xlim', 'xscale', 'xticks', 'ylabel', 'ylim', 'yscale', 'yticks']\n"
       ]
      }
     ],
     "prompt_number": 19
    },
    {
     "cell_type": "code",
     "collapsed": false,
     "input": [
      "*int*?\n"
     ],
     "language": "python",
     "metadata": {},
     "outputs": [],
     "prompt_number": 22
    },
    {
     "cell_type": "code",
     "collapsed": false,
     "input": [
      "%quickref"
     ],
     "language": "python",
     "metadata": {},
     "outputs": [],
     "prompt_number": 25
    },
    {
     "cell_type": "code",
     "collapsed": false,
     "input": [
      "%colors Linux"
     ],
     "language": "python",
     "metadata": {},
     "outputs": [],
     "prompt_number": 29
    },
    {
     "cell_type": "code",
     "collapsed": false,
     "input": [
      "%cd /home/rafa/work/benchmarkData/wan_sedimentation\n"
     ],
     "language": "python",
     "metadata": {},
     "outputs": [
      {
       "output_type": "stream",
       "stream": "stdout",
       "text": [
        "/home/rafa/work/benchmarkData/wan_sedimentation\n"
       ]
      }
     ],
     "prompt_number": 37
    },
    {
     "cell_type": "code",
     "collapsed": false,
     "input": [
      "#!sed 's/,/ /g' sedimentation_velocity.dat >> vel.dat\n",
      "np.loadtxt('vel.dat')"
     ],
     "language": "python",
     "metadata": {},
     "outputs": [
      {
       "metadata": {},
       "output_type": "pyout",
       "prompt_number": 41,
       "text": [
        "array([[  2.69461078e-03,  -7.88321168e-01],\n",
        "       [  3.89221557e-03,  -9.92700730e-01],\n",
        "       [  1.04790419e-02,  -2.16788321e+00],\n",
        "       [  1.16766467e-02,  -2.36496350e+00],\n",
        "       [  1.82634731e-02,  -3.44525547e+00],\n",
        "       [  1.91616766e-02,  -3.57664234e+00],\n",
        "       [  2.60479042e-02,  -4.64233577e+00],\n",
        "       [  3.38323353e-02,  -5.70072993e+00],\n",
        "       [  3.62275449e-02,  -6.07299270e+00],\n",
        "       [  4.04191617e-02,  -6.56934307e+00],\n",
        "       [  4.19161677e-02,  -6.75425791e+00],\n",
        "       [  4.91017964e-02,  -7.56204380e+00],\n",
        "       [  5.65868263e-02,  -8.30656934e+00],\n",
        "       [  6.40718563e-02,  -8.91240876e+00],\n",
        "       [  7.12574850e-02,  -9.40145985e+00],\n",
        "       [  7.36526946e-02,  -9.53284672e+00],\n",
        "       [  7.93413174e-02,  -9.82238443e+00],\n",
        "       [  8.68263473e-02,  -1.01459854e+01],\n",
        "       [  9.04191617e-02,  -1.02773723e+01],\n",
        "       [  9.43712575e-02,  -1.04029197e+01],\n",
        "       [  9.77544910e-02,  -1.05109489e+01],\n",
        "       [  1.01197605e-01,  -1.06034063e+01],\n",
        "       [  1.08832335e-01,  -1.07956204e+01],\n",
        "       [  1.12275449e-01,  -1.08759124e+01],\n",
        "       [  1.15718563e-01,  -1.09452555e+01],\n",
        "       [  1.19161677e-01,  -1.10121655e+01],\n",
        "       [  1.25548902e-01,  -1.11386861e+01],\n",
        "       [  1.29341317e-01,  -1.11897810e+01],\n",
        "       [  1.32634731e-01,  -1.12384428e+01],\n",
        "       [  1.36047904e-01,  -1.12905109e+01],\n",
        "       [  1.39820359e-01,  -1.13284672e+01],\n",
        "       [  1.44011976e-01,  -1.13868613e+01],\n",
        "       [  1.49101796e-01,  -1.14452555e+01],\n",
        "       [  1.53592814e-01,  -1.15036496e+01],\n",
        "       [  1.58203593e-01,  -1.15532847e+01],\n",
        "       [  1.61976048e-01,  -1.15888078e+01],\n",
        "       [  1.65568862e-01,  -1.16253041e+01],\n",
        "       [  1.69161677e-01,  -1.16593674e+01],\n",
        "       [  1.71856287e-01,  -1.16934307e+01],\n",
        "       [  1.76047904e-01,  -1.17323601e+01],\n",
        "       [  1.78742515e-01,  -1.17518248e+01],\n",
        "       [  1.84730539e-01,  -1.18102190e+01],\n",
        "       [  1.91916168e-01,  -1.18686131e+01],\n",
        "       [  1.95808383e-01,  -1.18978102e+01],\n",
        "       [  2.01497006e-01,  -1.19270073e+01],\n",
        "       [  2.05089820e-01,  -1.19562044e+01],\n",
        "       [  2.08682635e-01,  -1.19781022e+01],\n",
        "       [  2.12275449e-01,  -1.19902676e+01],\n",
        "       [  2.15868263e-01,  -1.20145985e+01],\n",
        "       [  2.19461078e-01,  -1.20340633e+01],\n",
        "       [  2.23652695e-01,  -1.20559611e+01],\n",
        "       [  2.27245509e-01,  -1.20729927e+01],\n",
        "       [  2.34131737e-01,  -1.21021898e+01],\n",
        "       [  2.40419162e-01,  -1.21313869e+01],\n",
        "       [  2.49101796e-01,  -1.21605839e+01],\n",
        "       [  2.56287425e-01,  -1.21897810e+01],\n",
        "       [  2.63473054e-01,  -1.22189781e+01],\n",
        "       [  2.70538922e-01,  -1.22481752e+01],\n",
        "       [  2.76946108e-01,  -1.22773723e+01],\n",
        "       [  2.82994012e-01,  -1.23065693e+01],\n",
        "       [  2.86227545e-01,  -1.23065693e+01],\n",
        "       [  2.90718563e-01,  -1.23309002e+01],\n",
        "       [  2.94311377e-01,  -1.23381995e+01],\n",
        "       [  2.97904192e-01,  -1.23527981e+01],\n",
        "       [  3.01497006e-01,  -1.23649635e+01],\n",
        "       [  3.05089820e-01,  -1.23649635e+01],\n",
        "       [  3.08682635e-01,  -1.23649635e+01],\n",
        "       [  3.12275449e-01,  -1.23649635e+01],\n",
        "       [  3.15868263e-01,  -1.23649635e+01],\n",
        "       [  3.19461078e-01,  -1.23527981e+01],\n",
        "       [  3.23053892e-01,  -1.23357664e+01],\n",
        "       [  3.26646707e-01,  -1.23333333e+01],\n",
        "       [  3.30239521e-01,  -1.23260341e+01],\n",
        "       [  3.32934132e-01,  -1.23065693e+01],\n",
        "       [  3.38323353e-01,  -1.22481752e+01],\n",
        "       [  3.44311377e-01,  -1.21313869e+01],\n",
        "       [  3.48023952e-01,  -1.20321168e+01],\n",
        "       [  3.51796407e-01,  -1.18832117e+01],\n",
        "       [  3.55089820e-01,  -1.16788321e+01],\n",
        "       [  3.57485030e-01,  -1.14793187e+01],\n",
        "       [  3.59281437e-01,  -1.12749392e+01],\n",
        "       [  3.60778443e-01,  -1.10583942e+01],\n",
        "       [  3.63473054e-01,  -1.05255474e+01],\n",
        "       [  3.65269461e-01,  -9.86861314e+00],\n",
        "       [  3.65868263e-01,   3.50364964e-01],\n",
        "       [  3.65868263e-01,   1.75182482e-01],\n",
        "       [  3.66467066e-01,  -4.86618005e-02],\n",
        "       [  3.65868263e-01,  -1.75182482e-01],\n",
        "       [  3.65868263e-01,  -3.50364964e-01],\n",
        "       [  3.65868263e-01,  -5.25547445e-01],\n",
        "       [  3.65868263e-01,  -7.00729927e-01],\n",
        "       [  3.65868263e-01,  -8.75912409e-01],\n",
        "       [  3.65868263e-01,  -1.05109489e+00],\n",
        "       [  3.65868263e-01,  -1.22627737e+00],\n",
        "       [  3.65868263e-01,  -1.40145985e+00],\n",
        "       [  3.65868263e-01,  -1.57664234e+00],\n",
        "       [  3.65868263e-01,  -1.75182482e+00],\n",
        "       [  3.65868263e-01,  -1.92700730e+00],\n",
        "       [  3.65868263e-01,  -2.10218978e+00],\n",
        "       [  3.65868263e-01,  -2.27737226e+00],\n",
        "       [  3.65868263e-01,  -2.45255474e+00],\n",
        "       [  3.65868263e-01,  -2.62773723e+00],\n",
        "       [  3.65868263e-01,  -2.80291971e+00],\n",
        "       [  3.65868263e-01,  -2.97810219e+00],\n",
        "       [  3.65868263e-01,  -3.15328467e+00],\n",
        "       [  3.65868263e-01,  -3.32846715e+00],\n",
        "       [  3.65868263e-01,  -3.50364964e+00],\n",
        "       [  3.65868263e-01,  -3.67883212e+00],\n",
        "       [  3.65868263e-01,  -3.85401460e+00],\n",
        "       [  3.65868263e-01,  -4.02919708e+00],\n",
        "       [  3.65868263e-01,  -4.20437956e+00],\n",
        "       [  3.65868263e-01,  -4.37956204e+00],\n",
        "       [  3.65868263e-01,  -4.55474453e+00],\n",
        "       [  3.65868263e-01,  -4.72992701e+00],\n",
        "       [  3.65868263e-01,  -4.90510949e+00],\n",
        "       [  3.65868263e-01,  -5.08029197e+00],\n",
        "       [  3.65868263e-01,  -5.25547445e+00],\n",
        "       [  3.65868263e-01,  -5.43065693e+00],\n",
        "       [  3.65868263e-01,  -5.60583942e+00],\n",
        "       [  3.65868263e-01,  -5.78102190e+00],\n",
        "       [  3.65868263e-01,  -5.95620438e+00],\n",
        "       [  3.65868263e-01,  -6.13138686e+00],\n",
        "       [  3.65868263e-01,  -6.30656934e+00],\n",
        "       [  3.65868263e-01,  -6.48175182e+00],\n",
        "       [  3.65868263e-01,  -6.65693431e+00],\n",
        "       [  3.65868263e-01,  -6.83211679e+00],\n",
        "       [  3.65868263e-01,  -7.00729927e+00],\n",
        "       [  3.65868263e-01,  -7.18248175e+00],\n",
        "       [  3.65868263e-01,  -7.35766423e+00],\n",
        "       [  3.65868263e-01,  -7.53284672e+00],\n",
        "       [  3.65868263e-01,  -7.70802920e+00],\n",
        "       [  3.65868263e-01,  -7.88321168e+00],\n",
        "       [  3.65868263e-01,  -8.05839416e+00],\n",
        "       [  3.65868263e-01,  -8.23357664e+00],\n",
        "       [  3.65868263e-01,  -8.40875912e+00],\n",
        "       [  3.65868263e-01,  -8.58394161e+00],\n",
        "       [  3.65868263e-01,  -8.75912409e+00],\n",
        "       [  3.65868263e-01,  -8.93430657e+00],\n",
        "       [  3.65868263e-01,  -9.10948905e+00],\n",
        "       [  3.65868263e-01,  -9.28467153e+00],\n",
        "       [  3.65868263e-01,  -9.45985401e+00],\n",
        "       [  3.65868263e-01,  -9.63503650e+00],\n",
        "       [  3.83832335e-01,  -3.28467153e-02],\n",
        "       [  3.85928144e-01,  -4.37956204e-02],\n",
        "       [  4.08383234e-01,   0.00000000e+00],\n",
        "       [  4.19960080e-01,   1.45985401e-02],\n",
        "       [  4.26347305e-01,   1.45985401e-02],\n",
        "       [  4.42315369e-01,  -4.86618005e-03],\n",
        "       [  4.44311377e-01,   1.45985401e-02],\n",
        "       [  4.54890220e-01,  -4.37956204e-02],\n",
        "       [  4.78143713e-01,  -1.45985401e-02],\n",
        "       [  4.81137725e-01,  -1.45985401e-02]])"
       ]
      }
     ],
     "prompt_number": 41
    },
    {
     "cell_type": "code",
     "collapsed": false,
     "input": [
      "my_data = np.array([[  2.69461078e-03,  -7.88321168e-01],\n",
      "       [  3.89221557e-03,  -9.92700730e-01],\n",
      "       [  1.04790419e-02,  -2.16788321e+00],\n",
      "       [  1.16766467e-02,  -2.36496350e+00],\n",
      "       [  1.82634731e-02,  -3.44525547e+00],\n",
      "       [  1.91616766e-02,  -3.57664234e+00],\n",
      "       [  2.60479042e-02,  -4.64233577e+00],\n",
      "       [  3.38323353e-02,  -5.70072993e+00],\n",
      "       [  3.62275449e-02,  -6.07299270e+00],\n",
      "       [  4.04191617e-02,  -6.56934307e+00],\n",
      "       [  4.19161677e-02,  -6.75425791e+00],\n",
      "       [  4.91017964e-02,  -7.56204380e+00],\n",
      "       [  5.65868263e-02,  -8.30656934e+00],\n",
      "       [  6.40718563e-02,  -8.91240876e+00],\n",
      "       [  7.12574850e-02,  -9.40145985e+00],\n",
      "       [  7.36526946e-02,  -9.53284672e+00],\n",
      "       [  7.93413174e-02,  -9.82238443e+00],\n",
      "       [  8.68263473e-02,  -1.01459854e+01],\n",
      "       [  9.04191617e-02,  -1.02773723e+01],\n",
      "       [  9.43712575e-02,  -1.04029197e+01],\n",
      "       [  9.77544910e-02,  -1.05109489e+01],\n",
      "       [  1.01197605e-01,  -1.06034063e+01],\n",
      "       [  1.08832335e-01,  -1.07956204e+01],\n",
      "       [  1.12275449e-01,  -1.08759124e+01],\n",
      "       [  1.15718563e-01,  -1.09452555e+01],\n",
      "       [  1.19161677e-01,  -1.10121655e+01],\n",
      "       [  1.25548902e-01,  -1.11386861e+01],\n",
      "       [  1.29341317e-01,  -1.11897810e+01],\n",
      "       [  1.32634731e-01,  -1.12384428e+01],\n",
      "       [  1.36047904e-01,  -1.12905109e+01],\n",
      "       [  1.39820359e-01,  -1.13284672e+01],\n",
      "       [  1.44011976e-01,  -1.13868613e+01],\n",
      "       [  1.49101796e-01,  -1.14452555e+01],\n",
      "       [  1.53592814e-01,  -1.15036496e+01],\n",
      "       [  1.58203593e-01,  -1.15532847e+01],\n",
      "       [  1.61976048e-01,  -1.15888078e+01],\n",
      "       [  1.65568862e-01,  -1.16253041e+01],\n",
      "       [  1.69161677e-01,  -1.16593674e+01],\n",
      "       [  1.71856287e-01,  -1.16934307e+01],\n",
      "       [  1.76047904e-01,  -1.17323601e+01],\n",
      "       [  1.78742515e-01,  -1.17518248e+01],\n",
      "       [  1.84730539e-01,  -1.18102190e+01],\n",
      "       [  1.91916168e-01,  -1.18686131e+01],\n",
      "       [  1.95808383e-01,  -1.18978102e+01],\n",
      "       [  2.01497006e-01,  -1.19270073e+01],\n",
      "       [  2.05089820e-01,  -1.19562044e+01],\n",
      "       [  2.08682635e-01,  -1.19781022e+01],\n",
      "       [  2.12275449e-01,  -1.19902676e+01],\n",
      "       [  2.15868263e-01,  -1.20145985e+01],\n",
      "       [  2.19461078e-01,  -1.20340633e+01],\n",
      "       [  2.23652695e-01,  -1.20559611e+01],\n",
      "       [  2.27245509e-01,  -1.20729927e+01],\n",
      "       [  2.34131737e-01,  -1.21021898e+01],\n",
      "       [  2.40419162e-01,  -1.21313869e+01],\n",
      "       [  2.49101796e-01,  -1.21605839e+01],\n",
      "       [  2.56287425e-01,  -1.21897810e+01],\n",
      "       [  2.63473054e-01,  -1.22189781e+01],\n",
      "       [  2.70538922e-01,  -1.22481752e+01],\n",
      "       [  2.76946108e-01,  -1.22773723e+01],\n",
      "       [  2.82994012e-01,  -1.23065693e+01],\n",
      "       [  2.86227545e-01,  -1.23065693e+01],\n",
      "       [  2.90718563e-01,  -1.23309002e+01],\n",
      "       [  2.94311377e-01,  -1.23381995e+01],\n",
      "       [  2.97904192e-01,  -1.23527981e+01],\n",
      "       [  3.01497006e-01,  -1.23649635e+01],\n",
      "       [  3.05089820e-01,  -1.23649635e+01],\n",
      "       [  3.08682635e-01,  -1.23649635e+01],\n",
      "       [  3.12275449e-01,  -1.23649635e+01],\n",
      "       [  3.15868263e-01,  -1.23649635e+01],\n",
      "       [  3.19461078e-01,  -1.23527981e+01],\n",
      "       [  3.23053892e-01,  -1.23357664e+01],\n",
      "       [  3.26646707e-01,  -1.23333333e+01],\n",
      "       [  3.30239521e-01,  -1.23260341e+01],\n",
      "       [  3.32934132e-01,  -1.23065693e+01],\n",
      "       [  3.38323353e-01,  -1.22481752e+01],\n",
      "       [  3.44311377e-01,  -1.21313869e+01],\n",
      "       [  3.48023952e-01,  -1.20321168e+01],\n",
      "       [  3.51796407e-01,  -1.18832117e+01],\n",
      "       [  3.55089820e-01,  -1.16788321e+01],\n",
      "       [  3.57485030e-01,  -1.14793187e+01],\n",
      "       [  3.59281437e-01,  -1.12749392e+01],\n",
      "       [  3.60778443e-01,  -1.10583942e+01],\n",
      "       [  3.63473054e-01,  -1.05255474e+01],\n",
      "       [  3.65269461e-01,  -9.86861314e+00],\n",
      "       [  3.65868263e-01,   3.50364964e-01],\n",
      "       [  3.65868263e-01,   1.75182482e-01],\n",
      "       [  3.66467066e-01,  -4.86618005e-02],\n",
      "       [  3.65868263e-01,  -1.75182482e-01],\n",
      "       [  3.65868263e-01,  -3.50364964e-01],\n",
      "       [  3.65868263e-01,  -5.25547445e-01],\n",
      "       [  3.65868263e-01,  -7.00729927e-01],\n",
      "       [  3.65868263e-01,  -8.75912409e-01],\n",
      "       [  3.65868263e-01,  -1.05109489e+00],\n",
      "       [  3.65868263e-01,  -1.22627737e+00],\n",
      "       [  3.65868263e-01,  -1.40145985e+00],\n",
      "       [  3.65868263e-01,  -1.57664234e+00],\n",
      "       [  3.65868263e-01,  -1.75182482e+00],\n",
      "       [  3.65868263e-01,  -1.92700730e+00],\n",
      "       [  3.65868263e-01,  -2.10218978e+00],\n",
      "       [  3.65868263e-01,  -2.27737226e+00],\n",
      "       [  3.65868263e-01,  -2.45255474e+00],\n",
      "       [  3.65868263e-01,  -2.62773723e+00],\n",
      "       [  3.65868263e-01,  -2.80291971e+00],\n",
      "       [  3.65868263e-01,  -2.97810219e+00],\n",
      "       [  3.65868263e-01,  -3.15328467e+00],\n",
      "       [  3.65868263e-01,  -3.32846715e+00],\n",
      "       [  3.65868263e-01,  -3.50364964e+00],\n",
      "       [  3.65868263e-01,  -3.67883212e+00],\n",
      "       [  3.65868263e-01,  -3.85401460e+00],\n",
      "       [  3.65868263e-01,  -4.02919708e+00],\n",
      "       [  3.65868263e-01,  -4.20437956e+00],\n",
      "       [  3.65868263e-01,  -4.37956204e+00],\n",
      "       [  3.65868263e-01,  -4.55474453e+00],\n",
      "       [  3.65868263e-01,  -4.72992701e+00],\n",
      "       [  3.65868263e-01,  -4.90510949e+00],\n",
      "       [  3.65868263e-01,  -5.08029197e+00],\n",
      "       [  3.65868263e-01,  -5.25547445e+00],\n",
      "       [  3.65868263e-01,  -5.43065693e+00],\n",
      "       [  3.65868263e-01,  -5.60583942e+00],\n",
      "       [  3.65868263e-01,  -5.78102190e+00],\n",
      "       [  3.65868263e-01,  -5.95620438e+00],\n",
      "       [  3.65868263e-01,  -6.13138686e+00],\n",
      "       [  3.65868263e-01,  -6.30656934e+00],\n",
      "       [  3.65868263e-01,  -6.48175182e+00],\n",
      "       [  3.65868263e-01,  -6.65693431e+00],\n",
      "       [  3.65868263e-01,  -6.83211679e+00],\n",
      "       [  3.65868263e-01,  -7.00729927e+00],\n",
      "       [  3.65868263e-01,  -7.18248175e+00],\n",
      "       [  3.65868263e-01,  -7.35766423e+00],\n",
      "       [  3.65868263e-01,  -7.53284672e+00],\n",
      "       [  3.65868263e-01,  -7.70802920e+00],\n",
      "       [  3.65868263e-01,  -7.88321168e+00],\n",
      "       [  3.65868263e-01,  -8.05839416e+00],\n",
      "       [  3.65868263e-01,  -8.23357664e+00],\n",
      "       [  3.65868263e-01,  -8.40875912e+00],\n",
      "       [  3.65868263e-01,  -8.58394161e+00],\n",
      "       [  3.65868263e-01,  -8.75912409e+00],\n",
      "       [  3.65868263e-01,  -8.93430657e+00],\n",
      "       [  3.65868263e-01,  -9.10948905e+00],\n",
      "       [  3.65868263e-01,  -9.28467153e+00],\n",
      "       [  3.65868263e-01,  -9.45985401e+00],\n",
      "       [  3.65868263e-01,  -9.63503650e+00],\n",
      "       [  3.83832335e-01,  -3.28467153e-02],\n",
      "       [  3.85928144e-01,  -4.37956204e-02],\n",
      "       [  4.08383234e-01,   0.00000000e+00],\n",
      "       [  4.19960080e-01,   1.45985401e-02],\n",
      "       [  4.26347305e-01,   1.45985401e-02],\n",
      "       [  4.42315369e-01,  -4.86618005e-03],\n",
      "       [  4.44311377e-01,   1.45985401e-02],\n",
      "       [  4.54890220e-01,  -4.37956204e-02],\n",
      "       [  4.78143713e-01,  -1.45985401e-02],\n",
      "       [  4.81137725e-01,  -1.45985401e-02]])"
     ],
     "language": "python",
     "metadata": {},
     "outputs": [],
     "prompt_number": 43
    },
    {
     "cell_type": "code",
     "collapsed": false,
     "input": [
      "%magic\n"
     ],
     "language": "python",
     "metadata": {},
     "outputs": [],
     "prompt_number": 44
    },
    {
     "cell_type": "heading",
     "level": 1,
     "metadata": {},
     "source": [
      "Latex"
     ]
    },
    {
     "cell_type": "code",
     "collapsed": false,
     "input": [
      "from IPython.display import Math\n",
      "Math(r'F(k) = \\int_{-\\infty}^{\\infty} f(x) e^{2\\pi i k} dx')"
     ],
     "language": "python",
     "metadata": {},
     "outputs": [
      {
       "latex": [
        "$$F(k) = \\int_{-\\infty}^{\\infty} f(x) e^{2\\pi i k} dx$$"
       ],
       "metadata": {},
       "output_type": "pyout",
       "prompt_number": 7,
       "text": [
        "<IPython.core.display.Math at 0x3a0ef90>"
       ]
      }
     ],
     "prompt_number": 7
    },
    {
     "cell_type": "code",
     "collapsed": false,
     "input": [
      "%%latex\n",
      "\\begin{align}\n",
      "\\nabla \\times \\vec{\\mathbf{B}} -\\, \\frac1c\\, \\frac{\\partial\\vec{\\mathbf{E}}}{\\partial t} & = \\frac{4\\pi}{c}\\vec{\\mathbf{j}} \\\\\n",
      "\\nabla \\cdot \\vec{\\mathbf{E}} & = 4 \\pi \\rho \\\\\n",
      "\\nabla \\times \\vec{\\mathbf{E}}\\, +\\, \\frac1c\\, \\frac{\\partial\\vec{\\mathbf{B}}}{\\partial t} & = \\vec{\\mathbf{0}} \\\\\n",
      "\\nabla \\cdot \\vec{\\mathbf{B}} & = 0\n",
      "\\end{align}"
     ],
     "language": "python",
     "metadata": {},
     "outputs": [
      {
       "latex": [
        "\\begin{align}\n",
        "\\nabla \\times \\vec{\\mathbf{B}} -\\, \\frac1c\\, \\frac{\\partial\\vec{\\mathbf{E}}}{\\partial t} & = \\frac{4\\pi}{c}\\vec{\\mathbf{j}} \\\\\n",
        "\\nabla \\cdot \\vec{\\mathbf{E}} & = 4 \\pi \\rho \\\\\n",
        "\\nabla \\times \\vec{\\mathbf{E}}\\, +\\, \\frac1c\\, \\frac{\\partial\\vec{\\mathbf{B}}}{\\partial t} & = \\vec{\\mathbf{0}} \\\\\n",
        "\\nabla \\cdot \\vec{\\mathbf{B}} & = 0\n",
        "\\end{align}"
       ],
       "metadata": {},
       "output_type": "display_data",
       "text": [
        "<IPython.core.display.Latex at 0x397bd10>"
       ]
      }
     ],
     "prompt_number": 8
    },
    {
     "cell_type": "heading",
     "level": 1,
     "metadata": {},
     "source": [
      "Symbolic variables"
     ]
    },
    {
     "cell_type": "code",
     "collapsed": false,
     "input": [
      "from sympy import *\n",
      "from IPython.display import display"
     ],
     "language": "python",
     "metadata": {},
     "outputs": [],
     "prompt_number": 20
    },
    {
     "cell_type": "code",
     "collapsed": false,
     "input": [
      "init_printing()"
     ],
     "language": "python",
     "metadata": {},
     "outputs": [],
     "prompt_number": 24
    },
    {
     "cell_type": "code",
     "collapsed": false,
     "input": [
      "x = Symbol('x')"
     ],
     "language": "python",
     "metadata": {},
     "outputs": [],
     "prompt_number": 25
    },
    {
     "cell_type": "code",
     "collapsed": false,
     "input": [
      "(pi + x)**2"
     ],
     "language": "python",
     "metadata": {},
     "outputs": [
      {
       "ename": "KeyError",
       "evalue": "'text/plain'",
       "output_type": "pyerr",
       "traceback": [
        "\u001b[0;31m---------------------------------------------------------------------------\u001b[0m\n\u001b[0;31mKeyError\u001b[0m                                  Traceback (most recent call last)",
        "\u001b[0;32m<ipython-input-26-2f55da8077e2>\u001b[0m in \u001b[0;36m<module>\u001b[0;34m()\u001b[0m\n\u001b[0;32m----> 1\u001b[0;31m \u001b[0;34m(\u001b[0m\u001b[0mpi\u001b[0m \u001b[0;34m+\u001b[0m \u001b[0mx\u001b[0m\u001b[0;34m)\u001b[0m\u001b[0;34m**\u001b[0m\u001b[0;36m2\u001b[0m\u001b[0;34m\u001b[0m\u001b[0m\n\u001b[0m",
        "\u001b[0;32m/usr/lib/python2.7/dist-packages/IPython/core/displayhook.pyc\u001b[0m in \u001b[0;36m__call__\u001b[0;34m(self, result)\u001b[0m\n\u001b[1;32m    253\u001b[0m             \u001b[0mself\u001b[0m\u001b[0;34m.\u001b[0m\u001b[0mwrite_format_data\u001b[0m\u001b[0;34m(\u001b[0m\u001b[0mformat_dict\u001b[0m\u001b[0;34m,\u001b[0m \u001b[0mmd_dict\u001b[0m\u001b[0;34m)\u001b[0m\u001b[0;34m\u001b[0m\u001b[0m\n\u001b[1;32m    254\u001b[0m             \u001b[0mself\u001b[0m\u001b[0;34m.\u001b[0m\u001b[0mupdate_user_ns\u001b[0m\u001b[0;34m(\u001b[0m\u001b[0mresult\u001b[0m\u001b[0;34m)\u001b[0m\u001b[0;34m\u001b[0m\u001b[0m\n\u001b[0;32m--> 255\u001b[0;31m             \u001b[0mself\u001b[0m\u001b[0;34m.\u001b[0m\u001b[0mlog_output\u001b[0m\u001b[0;34m(\u001b[0m\u001b[0mformat_dict\u001b[0m\u001b[0;34m)\u001b[0m\u001b[0;34m\u001b[0m\u001b[0m\n\u001b[0m\u001b[1;32m    256\u001b[0m             \u001b[0mself\u001b[0m\u001b[0;34m.\u001b[0m\u001b[0mfinish_displayhook\u001b[0m\u001b[0;34m(\u001b[0m\u001b[0;34m)\u001b[0m\u001b[0;34m\u001b[0m\u001b[0m\n\u001b[1;32m    257\u001b[0m \u001b[0;34m\u001b[0m\u001b[0m\n",
        "\u001b[0;32m/usr/lib/python2.7/dist-packages/IPython/core/displayhook.pyc\u001b[0m in \u001b[0;36mlog_output\u001b[0;34m(self, format_dict)\u001b[0m\n\u001b[1;32m    225\u001b[0m             \u001b[0mself\u001b[0m\u001b[0;34m.\u001b[0m\u001b[0mshell\u001b[0m\u001b[0;34m.\u001b[0m\u001b[0mlogger\u001b[0m\u001b[0;34m.\u001b[0m\u001b[0mlog_write\u001b[0m\u001b[0;34m(\u001b[0m\u001b[0mformat_dict\u001b[0m\u001b[0;34m[\u001b[0m\u001b[0;34m'text/plain'\u001b[0m\u001b[0;34m]\u001b[0m\u001b[0;34m,\u001b[0m \u001b[0;34m'output'\u001b[0m\u001b[0;34m)\u001b[0m\u001b[0;34m\u001b[0m\u001b[0m\n\u001b[1;32m    226\u001b[0m         \u001b[0mself\u001b[0m\u001b[0;34m.\u001b[0m\u001b[0mshell\u001b[0m\u001b[0;34m.\u001b[0m\u001b[0mhistory_manager\u001b[0m\u001b[0;34m.\u001b[0m\u001b[0moutput_hist_reprs\u001b[0m\u001b[0;34m[\u001b[0m\u001b[0mself\u001b[0m\u001b[0;34m.\u001b[0m\u001b[0mprompt_count\u001b[0m\u001b[0;34m]\u001b[0m \u001b[0;34m=\u001b[0m\u001b[0;31m \u001b[0m\u001b[0;31m\\\u001b[0m\u001b[0;34m\u001b[0m\u001b[0m\n\u001b[0;32m--> 227\u001b[0;31m                                                     \u001b[0mformat_dict\u001b[0m\u001b[0;34m[\u001b[0m\u001b[0;34m'text/plain'\u001b[0m\u001b[0;34m]\u001b[0m\u001b[0;34m\u001b[0m\u001b[0m\n\u001b[0m\u001b[1;32m    228\u001b[0m \u001b[0;34m\u001b[0m\u001b[0m\n\u001b[1;32m    229\u001b[0m     \u001b[0;32mdef\u001b[0m \u001b[0mfinish_displayhook\u001b[0m\u001b[0;34m(\u001b[0m\u001b[0mself\u001b[0m\u001b[0;34m)\u001b[0m\u001b[0;34m:\u001b[0m\u001b[0;34m\u001b[0m\u001b[0m\n",
        "\u001b[0;31mKeyError\u001b[0m: 'text/plain'"
       ]
      }
     ],
     "prompt_number": 26
    },
    {
     "cell_type": "code",
     "collapsed": false,
     "input": [],
     "language": "python",
     "metadata": {},
     "outputs": []
    }
   ],
   "metadata": {}
  }
 ]
}