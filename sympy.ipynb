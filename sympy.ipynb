{
 "metadata": {
  "name": "",
  "signature": "sha256:4284771a3325fe664cb086dceacdb49b953b9d6f3ffd15c9e2a6cedd54c9bd92"
 },
 "nbformat": 3,
 "nbformat_minor": 0,
 "worksheets": [
  {
   "cells": [
    {
     "cell_type": "code",
     "collapsed": false,
     "input": [
      "from IPython.display import display\n",
      "\n",
      "from sympy.interactive import printing\n",
      "printing.init_printing(use_latex='mathjax')\n",
      "\n",
      "from __future__ import division\n",
      "import sympy as sym\n",
      "from sympy import *\n",
      "x, y, z = symbols(\"x y z\")\n",
      "k, m, n = symbols(\"k m n\", integer=True)\n",
      "f, g, h = map(Function, 'fgh')"
     ],
     "language": "python",
     "metadata": {},
     "outputs": [],
     "prompt_number": 2
    },
    {
     "cell_type": "code",
     "collapsed": false,
     "input": [
      "Rational(3,2)*pi + exp(I*x) / (x**2 + y)"
     ],
     "language": "python",
     "metadata": {},
     "outputs": [
      {
       "latex": [
        "$$\\frac{3 \\pi}{2} + \\frac{e^{i x}}{x^{2} + y}$$"
       ],
       "metadata": {},
       "output_type": "pyout",
       "prompt_number": 3,
       "text": [
        "        \u2148\u22c5x \n",
        "3\u22c5\u03c0    \u212f    \n",
        "\u2500\u2500\u2500 + \u2500\u2500\u2500\u2500\u2500\u2500\n",
        " 2     2    \n",
        "      x  + y"
       ]
      }
     ],
     "prompt_number": 3
    },
    {
     "cell_type": "code",
     "collapsed": false,
     "input": [
      "eq = ((x+y)**2 * (x+1))\n",
      "eq"
     ],
     "language": "python",
     "metadata": {},
     "outputs": [
      {
       "latex": [
        "$$\\left(x + 1\\right) \\left(x + y\\right)^{2}$$"
       ],
       "metadata": {},
       "output_type": "pyout",
       "prompt_number": 4,
       "text": [
        "               2\n",
        "(x + 1)\u22c5(x + y) "
       ]
      }
     ],
     "prompt_number": 4
    },
    {
     "cell_type": "code",
     "collapsed": false,
     "input": [
      "eq2=sym.expand(eq)"
     ],
     "language": "python",
     "metadata": {},
     "outputs": [],
     "prompt_number": 5
    },
    {
     "cell_type": "code",
     "collapsed": false,
     "input": [
      "eq2"
     ],
     "language": "python",
     "metadata": {},
     "outputs": [
      {
       "latex": [
        "$$x^{3} + 2 x^{2} y + x^{2} + x y^{2} + 2 x y + y^{2}$$"
       ],
       "metadata": {},
       "output_type": "pyout",
       "prompt_number": 6,
       "text": [
        " 3      2      2      2            2\n",
        "x  + 2\u22c5x \u22c5y + x  + x\u22c5y  + 2\u22c5x\u22c5y + y "
       ]
      }
     ],
     "prompt_number": 6
    },
    {
     "cell_type": "code",
     "collapsed": false,
     "input": [
      "diff(eq2,x)"
     ],
     "language": "python",
     "metadata": {},
     "outputs": [
      {
       "latex": [
        "$$3 x^{2} + 4 x y + 2 x + y^{2} + 2 y$$"
       ],
       "metadata": {},
       "output_type": "pyout",
       "prompt_number": 7,
       "text": [
        "   2                  2      \n",
        "3\u22c5x  + 4\u22c5x\u22c5y + 2\u22c5x + y  + 2\u22c5y"
       ]
      }
     ],
     "prompt_number": 7
    },
    {
     "cell_type": "code",
     "collapsed": false,
     "input": [
      "f = 6*x**5"
     ],
     "language": "python",
     "metadata": {},
     "outputs": [],
     "prompt_number": 8
    },
    {
     "cell_type": "code",
     "collapsed": false,
     "input": [
      "integrate(f,x)"
     ],
     "language": "python",
     "metadata": {},
     "outputs": [
      {
       "latex": [
        "$$x^{6}$$"
       ],
       "metadata": {},
       "output_type": "pyout",
       "prompt_number": 9,
       "text": [
        " 6\n",
        "x "
       ]
      }
     ],
     "prompt_number": 9
    },
    {
     "cell_type": "code",
     "collapsed": false,
     "input": [
      "%cd /home/rafa/code\n",
      "%ls\n",
      "%rm -rf model.vtk.00000\n",
      "%ls"
     ],
     "language": "python",
     "metadata": {},
     "outputs": [
      {
       "output_type": "stream",
       "stream": "stdout",
       "text": [
        "/home/rafa/code\n",
        "\u001b[0m\u001b[01;34m9.0\u001b[0m/             \u001b[01;31mcmake-2.8.11.2.tar.gz\u001b[0m  \u001b[01;34meclipse_workspace_cpp\u001b[0m/  \u001b[01;34mjava\u001b[0m/                 \u001b[01;34mParaView-v4.0.1-source\u001b[0m/     \u001b[01;34mrapidxml-1.13\u001b[0m/  \u001b[01;34mTetToHex_v1.01\u001b[0m/     \u001b[01;34myade-bin\u001b[0m/\r\n",
        "\u001b[01;32ma.out\u001b[0m*           CMakeLists.txt~        \u001b[01;34mFullC0ntact\u001b[0m/            \u001b[01;34mlammps-1Feb14\u001b[0m/        \u001b[01;31mParaView-v4.0.1-source.tgz\u001b[0m  \u001b[01;34mregex_test\u001b[0m/     \u001b[01;34mtowerofbabel\u001b[0m/\r\n",
        "\u001b[01;34mBBB\u001b[0m/             \u001b[01;32mconverter\u001b[0m*             \u001b[01;34mFullC0ntact-eclipse\u001b[0m/    \u001b[01;31mlammps-1Feb14.tar.gz\u001b[0m  \u001b[01;34mperiodic_boundary\u001b[0m/          \u001b[01;34mrobotut\u001b[0m/        \u001b[01;34mtrunk-1.12.0\u001b[0m/\r\n",
        "\u001b[01;34mbinconverter\u001b[0m/    converter.f90          \u001b[01;34mFullC0ntact-github\u001b[0m/     \u001b[01;34mloki-0.1.7\u001b[0m/           \u001b[01;34mPsiPhi1D\u001b[0m/                   \u001b[01;34msamples\u001b[0m/        \u001b[01;34mvinkanal\u001b[0m/\r\n",
        "\u001b[01;34mblender_python\u001b[0m/  converter.f90~         \u001b[01;34mgithub\u001b[0m/                 \u001b[01;31mloki-0.1.7.zip\u001b[0m        \u001b[01;31mPsiPhi1D.rar\u001b[0m                \u001b[01;34mtest\u001b[0m/           \u001b[01;34mvinkanal_test\u001b[0m/\r\n",
        "\u001b[01;34mbox2d\u001b[0m/           \u001b[01;34mdrawTextureGlut\u001b[0m/       gpg_encrypt             \u001b[01;32mMakefile\u001b[0m*             \u001b[01;31mPsiPhi1D.tar.gz\u001b[0m             test.cpp        \u001b[01;34mvinkanal_test2\u001b[0m/\r\n",
        "\u001b[01;34mcdt\u001b[0m/             \u001b[01;31mdrawTextureGlut.zip\u001b[0m    \u001b[01;34mgridgeneration\u001b[0m/         \u001b[01;34mo\u001b[0m/                    \u001b[01;34mpython\u001b[0m/                     test.cpp~       \u001b[01;34mvtk\u001b[0m/\r\n",
        "\u001b[01;34mcmake-2.8.11.2\u001b[0m/  \u001b[01;34mEasyVolumeRender\u001b[0m/      \u001b[01;31mgridgeneration.zip\u001b[0m      \u001b[01;34mparaview_python\u001b[0m/      \u001b[01;34mqt\u001b[0m/                         \u001b[01;34mtests\u001b[0m/          \u001b[01;31myade-1.12.0.tar.gz\u001b[0m\r\n"
       ]
      },
      {
       "output_type": "stream",
       "stream": "stdout",
       "text": [
        "\u001b[0m\u001b[01;34m9.0\u001b[0m/             \u001b[01;31mcmake-2.8.11.2.tar.gz\u001b[0m  \u001b[01;34meclipse_workspace_cpp\u001b[0m/  \u001b[01;34mjava\u001b[0m/                 \u001b[01;34mParaView-v4.0.1-source\u001b[0m/     \u001b[01;34mrapidxml-1.13\u001b[0m/  \u001b[01;34mTetToHex_v1.01\u001b[0m/     \u001b[01;34myade-bin\u001b[0m/\r\n",
        "\u001b[01;32ma.out\u001b[0m*           CMakeLists.txt~        \u001b[01;34mFullC0ntact\u001b[0m/            \u001b[01;34mlammps-1Feb14\u001b[0m/        \u001b[01;31mParaView-v4.0.1-source.tgz\u001b[0m  \u001b[01;34mregex_test\u001b[0m/     \u001b[01;34mtowerofbabel\u001b[0m/\r\n",
        "\u001b[01;34mBBB\u001b[0m/             \u001b[01;32mconverter\u001b[0m*             \u001b[01;34mFullC0ntact-eclipse\u001b[0m/    \u001b[01;31mlammps-1Feb14.tar.gz\u001b[0m  \u001b[01;34mperiodic_boundary\u001b[0m/          \u001b[01;34mrobotut\u001b[0m/        \u001b[01;34mtrunk-1.12.0\u001b[0m/\r\n",
        "\u001b[01;34mbinconverter\u001b[0m/    converter.f90          \u001b[01;34mFullC0ntact-github\u001b[0m/     \u001b[01;34mloki-0.1.7\u001b[0m/           \u001b[01;34mPsiPhi1D\u001b[0m/                   \u001b[01;34msamples\u001b[0m/        \u001b[01;34mvinkanal\u001b[0m/\r\n",
        "\u001b[01;34mblender_python\u001b[0m/  converter.f90~         \u001b[01;34mgithub\u001b[0m/                 \u001b[01;31mloki-0.1.7.zip\u001b[0m        \u001b[01;31mPsiPhi1D.rar\u001b[0m                \u001b[01;34mtest\u001b[0m/           \u001b[01;34mvinkanal_test\u001b[0m/\r\n",
        "\u001b[01;34mbox2d\u001b[0m/           \u001b[01;34mdrawTextureGlut\u001b[0m/       gpg_encrypt             \u001b[01;32mMakefile\u001b[0m*             \u001b[01;31mPsiPhi1D.tar.gz\u001b[0m             test.cpp        \u001b[01;34mvinkanal_test2\u001b[0m/\r\n",
        "\u001b[01;34mcdt\u001b[0m/             \u001b[01;31mdrawTextureGlut.zip\u001b[0m    \u001b[01;34mgridgeneration\u001b[0m/         \u001b[01;34mo\u001b[0m/                    \u001b[01;34mpython\u001b[0m/                     test.cpp~       \u001b[01;34mvtk\u001b[0m/\r\n",
        "\u001b[01;34mcmake-2.8.11.2\u001b[0m/  \u001b[01;34mEasyVolumeRender\u001b[0m/      \u001b[01;31mgridgeneration.zip\u001b[0m      \u001b[01;34mparaview_python\u001b[0m/      \u001b[01;34mqt\u001b[0m/                         \u001b[01;34mtests\u001b[0m/          \u001b[01;31myade-1.12.0.tar.gz\u001b[0m\r\n"
       ]
      }
     ],
     "prompt_number": 15
    }
   ],
   "metadata": {}
  }
 ]
}